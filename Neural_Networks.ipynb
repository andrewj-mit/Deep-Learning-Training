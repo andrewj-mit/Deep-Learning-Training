{
  "nbformat": 4,
  "nbformat_minor": 0,
  "metadata": {
    "colab": {
      "provenance": [],
      "authorship_tag": "ABX9TyNC1jBnFQoaadtEpFOkL3/d",
      "include_colab_link": true
    },
    "kernelspec": {
      "name": "python3",
      "display_name": "Python 3"
    },
    "language_info": {
      "name": "python"
    }
  },
  "cells": [
    {
      "cell_type": "markdown",
      "metadata": {
        "id": "view-in-github",
        "colab_type": "text"
      },
      "source": [
        "<a href=\"https://colab.research.google.com/github/andrewj-mit/Deep-Learning-Training/blob/main/Neural_Networks.ipynb\" target=\"_parent\"><img src=\"https://colab.research.google.com/assets/colab-badge.svg\" alt=\"Open In Colab\"/></a>"
      ]
    },
    {
      "cell_type": "markdown",
      "source": [
        "# Single Neuron"
      ],
      "metadata": {
        "id": "C0vJKPzZzJY9"
      }
    },
    {
      "cell_type": "markdown",
      "source": [
        "### Import Necessary Libraries"
      ],
      "metadata": {
        "id": "eEA5-xj9zQyq"
      }
    },
    {
      "cell_type": "code",
      "execution_count": 3,
      "metadata": {
        "id": "2caJk3uapGFr"
      },
      "outputs": [],
      "source": [
        "from tensorflow import keras\n",
        "from keras.layers import Dense, Activation\n",
        "from keras.models import Sequential, load_model"
      ]
    },
    {
      "cell_type": "markdown",
      "source": [
        "### Build Neural Network"
      ],
      "metadata": {
        "id": "5TVVQscJzUVV"
      }
    },
    {
      "cell_type": "code",
      "source": [
        "model = Sequential()\n",
        "model.add(Dense(1, input_dim=500))\n",
        "model.add(Activation(activation='sigmoid'))\n",
        "model.compile(optimizer='rmsprop', loss='binary_crossentropy', metrics=['accuracy'])\n"
      ],
      "metadata": {
        "colab": {
          "base_uri": "https://localhost:8080/"
        },
        "id": "Hr4gZ8EzpbbW",
        "outputId": "96f23d26-80c8-439b-8895-8122745b461c"
      },
      "execution_count": 4,
      "outputs": [
        {
          "output_type": "stream",
          "name": "stderr",
          "text": [
            "/usr/local/lib/python3.10/dist-packages/keras/src/layers/core/dense.py:87: UserWarning: Do not pass an `input_shape`/`input_dim` argument to a layer. When using Sequential models, prefer using an `Input(shape)` object as the first layer in the model instead.\n",
            "  super().__init__(activity_regularizer=activity_regularizer, **kwargs)\n"
          ]
        }
      ]
    },
    {
      "cell_type": "markdown",
      "source": [
        "### Prepare the dataset\n"
      ],
      "metadata": {
        "id": "Tc69EWdjzX4O"
      }
    },
    {
      "cell_type": "code",
      "source": [
        "import numpy as np\n",
        "\n",
        "#Data Preparation\n",
        "data = np.random.random((1000, 500))\n",
        "labels = np.random.randint(2, size=(1000, 1))\n",
        "# print(data)\n",
        "# print(labels)"
      ],
      "metadata": {
        "collapsed": true,
        "id": "dHfUn0EFp0qg"
      },
      "execution_count": 22,
      "outputs": []
    },
    {
      "cell_type": "code",
      "source": [
        "score = model.evaluate(data,labels, verbose=0)\n",
        "mapped = zip(model.metrics_names, score)\n",
        "M = set(mapped)\n",
        "print ('Before Training:', M)\n",
        "model.fit(data, labels, epochs=10, batch_size=32, verbose=0)"
      ],
      "metadata": {
        "colab": {
          "base_uri": "https://localhost:8080/"
        },
        "id": "P8rbvWsft9Li",
        "outputId": "974618be-0448-4059-e594-db840a40ae5b"
      },
      "execution_count": 23,
      "outputs": [
        {
          "output_type": "stream",
          "name": "stdout",
          "text": [
            "Before Training: {('compile_metrics', 0.4790000021457672), ('loss', 0.7966088056564331)}\n"
          ]
        },
        {
          "output_type": "execute_result",
          "data": {
            "text/plain": [
              "<keras.src.callbacks.history.History at 0x7c0b5cb230a0>"
            ]
          },
          "metadata": {},
          "execution_count": 23
        }
      ]
    },
    {
      "cell_type": "code",
      "source": [
        "score = model.evaluate(data,labels, verbose=0)\n",
        "mapped = zip(model.metrics_names, score)\n",
        "M = set(mapped)\n",
        "print ('After Training:', M)"
      ],
      "metadata": {
        "colab": {
          "base_uri": "https://localhost:8080/"
        },
        "id": "roQFBwoUuICv",
        "outputId": "1f55b112-2e40-4948-8286-a6c8bd453271"
      },
      "execution_count": 24,
      "outputs": [
        {
          "output_type": "stream",
          "name": "stdout",
          "text": [
            "After Training: {('compile_metrics', 0.546999990940094), ('loss', 0.697121798992157)}\n"
          ]
        }
      ]
    },
    {
      "cell_type": "code",
      "source": [
        "model.summary()"
      ],
      "metadata": {
        "colab": {
          "base_uri": "https://localhost:8080/",
          "height": 215
        },
        "id": "Fgka6U34wPwj",
        "outputId": "84a0e93e-be14-4d0c-fcac-36a4ac032919"
      },
      "execution_count": 25,
      "outputs": [
        {
          "output_type": "display_data",
          "data": {
            "text/plain": [
              "\u001b[1mModel: \"sequential_1\"\u001b[0m\n"
            ],
            "text/html": [
              "<pre style=\"white-space:pre;overflow-x:auto;line-height:normal;font-family:Menlo,'DejaVu Sans Mono',consolas,'Courier New',monospace\"><span style=\"font-weight: bold\">Model: \"sequential_1\"</span>\n",
              "</pre>\n"
            ]
          },
          "metadata": {}
        },
        {
          "output_type": "display_data",
          "data": {
            "text/plain": [
              "┏━━━━━━━━━━━━━━━━━━━━━━━━━━━━━━━━━━━━━━┳━━━━━━━━━━━━━━━━━━━━━━━━━━━━━┳━━━━━━━━━━━━━━━━━┓\n",
              "┃\u001b[1m \u001b[0m\u001b[1mLayer (type)                        \u001b[0m\u001b[1m \u001b[0m┃\u001b[1m \u001b[0m\u001b[1mOutput Shape               \u001b[0m\u001b[1m \u001b[0m┃\u001b[1m \u001b[0m\u001b[1m        Param #\u001b[0m\u001b[1m \u001b[0m┃\n",
              "┡━━━━━━━━━━━━━━━━━━━━━━━━━━━━━━━━━━━━━━╇━━━━━━━━━━━━━━━━━━━━━━━━━━━━━╇━━━━━━━━━━━━━━━━━┩\n",
              "│ dense_1 (\u001b[38;5;33mDense\u001b[0m)                      │ (\u001b[38;5;45mNone\u001b[0m, \u001b[38;5;34m1\u001b[0m)                   │             \u001b[38;5;34m501\u001b[0m │\n",
              "├──────────────────────────────────────┼─────────────────────────────┼─────────────────┤\n",
              "│ activation (\u001b[38;5;33mActivation\u001b[0m)              │ (\u001b[38;5;45mNone\u001b[0m, \u001b[38;5;34m1\u001b[0m)                   │               \u001b[38;5;34m0\u001b[0m │\n",
              "└──────────────────────────────────────┴─────────────────────────────┴─────────────────┘\n"
            ],
            "text/html": [
              "<pre style=\"white-space:pre;overflow-x:auto;line-height:normal;font-family:Menlo,'DejaVu Sans Mono',consolas,'Courier New',monospace\">┏━━━━━━━━━━━━━━━━━━━━━━━━━━━━━━━━━━━━━━┳━━━━━━━━━━━━━━━━━━━━━━━━━━━━━┳━━━━━━━━━━━━━━━━━┓\n",
              "┃<span style=\"font-weight: bold\"> Layer (type)                         </span>┃<span style=\"font-weight: bold\"> Output Shape                </span>┃<span style=\"font-weight: bold\">         Param # </span>┃\n",
              "┡━━━━━━━━━━━━━━━━━━━━━━━━━━━━━━━━━━━━━━╇━━━━━━━━━━━━━━━━━━━━━━━━━━━━━╇━━━━━━━━━━━━━━━━━┩\n",
              "│ dense_1 (<span style=\"color: #0087ff; text-decoration-color: #0087ff\">Dense</span>)                      │ (<span style=\"color: #00d7ff; text-decoration-color: #00d7ff\">None</span>, <span style=\"color: #00af00; text-decoration-color: #00af00\">1</span>)                   │             <span style=\"color: #00af00; text-decoration-color: #00af00\">501</span> │\n",
              "├──────────────────────────────────────┼─────────────────────────────┼─────────────────┤\n",
              "│ activation (<span style=\"color: #0087ff; text-decoration-color: #0087ff\">Activation</span>)              │ (<span style=\"color: #00d7ff; text-decoration-color: #00d7ff\">None</span>, <span style=\"color: #00af00; text-decoration-color: #00af00\">1</span>)                   │               <span style=\"color: #00af00; text-decoration-color: #00af00\">0</span> │\n",
              "└──────────────────────────────────────┴─────────────────────────────┴─────────────────┘\n",
              "</pre>\n"
            ]
          },
          "metadata": {}
        },
        {
          "output_type": "display_data",
          "data": {
            "text/plain": [
              "\u001b[1m Total params: \u001b[0m\u001b[38;5;34m1,004\u001b[0m (3.93 KB)\n"
            ],
            "text/html": [
              "<pre style=\"white-space:pre;overflow-x:auto;line-height:normal;font-family:Menlo,'DejaVu Sans Mono',consolas,'Courier New',monospace\"><span style=\"font-weight: bold\"> Total params: </span><span style=\"color: #00af00; text-decoration-color: #00af00\">1,004</span> (3.93 KB)\n",
              "</pre>\n"
            ]
          },
          "metadata": {}
        },
        {
          "output_type": "display_data",
          "data": {
            "text/plain": [
              "\u001b[1m Trainable params: \u001b[0m\u001b[38;5;34m501\u001b[0m (1.96 KB)\n"
            ],
            "text/html": [
              "<pre style=\"white-space:pre;overflow-x:auto;line-height:normal;font-family:Menlo,'DejaVu Sans Mono',consolas,'Courier New',monospace\"><span style=\"font-weight: bold\"> Trainable params: </span><span style=\"color: #00af00; text-decoration-color: #00af00\">501</span> (1.96 KB)\n",
              "</pre>\n"
            ]
          },
          "metadata": {}
        },
        {
          "output_type": "display_data",
          "data": {
            "text/plain": [
              "\u001b[1m Non-trainable params: \u001b[0m\u001b[38;5;34m0\u001b[0m (0.00 B)\n"
            ],
            "text/html": [
              "<pre style=\"white-space:pre;overflow-x:auto;line-height:normal;font-family:Menlo,'DejaVu Sans Mono',consolas,'Courier New',monospace\"><span style=\"font-weight: bold\"> Non-trainable params: </span><span style=\"color: #00af00; text-decoration-color: #00af00\">0</span> (0.00 B)\n",
              "</pre>\n"
            ]
          },
          "metadata": {}
        },
        {
          "output_type": "display_data",
          "data": {
            "text/plain": [
              "\u001b[1m Optimizer params: \u001b[0m\u001b[38;5;34m503\u001b[0m (1.97 KB)\n"
            ],
            "text/html": [
              "<pre style=\"white-space:pre;overflow-x:auto;line-height:normal;font-family:Menlo,'DejaVu Sans Mono',consolas,'Courier New',monospace\"><span style=\"font-weight: bold\"> Optimizer params: </span><span style=\"color: #00af00; text-decoration-color: #00af00\">503</span> (1.97 KB)\n",
              "</pre>\n"
            ]
          },
          "metadata": {}
        }
      ]
    },
    {
      "cell_type": "code",
      "source": [
        "#additional Program from using graph\n",
        "\n",
        "import matplotlib.pyplot as plt\n",
        "\n",
        "history = model.fit(data, labels, validation_split=0.25, epochs=50, batch_size=16, verbose=1)\n",
        "\n",
        "# Plot training & validation accuracy values\n",
        "plt.plot(history.history['accuracy'])\n",
        "plt.plot(history.history['val_accuracy'])\n",
        "plt.title('Model accuracy')\n",
        "plt.ylabel('Accuracy')\n",
        "plt.xlabel('Epoch')\n",
        "plt.legend(['Train', 'Test'], loc='upper left')\n",
        "print(plt.show())\n",
        "\n",
        "# Plot training & validation loss values\n",
        "plt.plot(history.history['loss'])\n",
        "plt.plot(history.history['val_loss'])\n",
        "plt.title('Model loss')\n",
        "plt.ylabel('Loss')\n",
        "plt.xlabel('Epoch')\n",
        "plt.legend(['Train', 'Test'], loc='upper left')\n",
        "print(plt.show())"
      ],
      "metadata": {
        "colab": {
          "base_uri": "https://localhost:8080/",
          "height": 1000
        },
        "collapsed": true,
        "id": "sIUg8Y3yueT0",
        "outputId": "a62e4ddb-c902-4fff-8052-56f09fbd7ca5"
      },
      "execution_count": 27,
      "outputs": [
        {
          "output_type": "stream",
          "name": "stdout",
          "text": [
            "Epoch 1/50\n",
            "\u001b[1m47/47\u001b[0m \u001b[32m━━━━━━━━━━━━━━━━━━━━\u001b[0m\u001b[37m\u001b[0m \u001b[1m1s\u001b[0m 10ms/step - accuracy: 0.5330 - loss: 0.7189 - val_accuracy: 0.5560 - val_loss: 0.6919\n",
            "Epoch 2/50\n",
            "\u001b[1m47/47\u001b[0m \u001b[32m━━━━━━━━━━━━━━━━━━━━\u001b[0m\u001b[37m\u001b[0m \u001b[1m0s\u001b[0m 4ms/step - accuracy: 0.5346 - loss: 0.7001 - val_accuracy: 0.6240 - val_loss: 0.6649\n",
            "Epoch 3/50\n",
            "\u001b[1m47/47\u001b[0m \u001b[32m━━━━━━━━━━━━━━━━━━━━\u001b[0m\u001b[37m\u001b[0m \u001b[1m0s\u001b[0m 4ms/step - accuracy: 0.6003 - loss: 0.6699 - val_accuracy: 0.5680 - val_loss: 0.7141\n",
            "Epoch 4/50\n",
            "\u001b[1m47/47\u001b[0m \u001b[32m━━━━━━━━━━━━━━━━━━━━\u001b[0m\u001b[37m\u001b[0m \u001b[1m0s\u001b[0m 4ms/step - accuracy: 0.5546 - loss: 0.6864 - val_accuracy: 0.6160 - val_loss: 0.6652\n",
            "Epoch 5/50\n",
            "\u001b[1m47/47\u001b[0m \u001b[32m━━━━━━━━━━━━━━━━━━━━\u001b[0m\u001b[37m\u001b[0m \u001b[1m0s\u001b[0m 3ms/step - accuracy: 0.5704 - loss: 0.6770 - val_accuracy: 0.6280 - val_loss: 0.6687\n",
            "Epoch 6/50\n",
            "\u001b[1m47/47\u001b[0m \u001b[32m━━━━━━━━━━━━━━━━━━━━\u001b[0m\u001b[37m\u001b[0m \u001b[1m0s\u001b[0m 4ms/step - accuracy: 0.5606 - loss: 0.6804 - val_accuracy: 0.6080 - val_loss: 0.6695\n",
            "Epoch 7/50\n",
            "\u001b[1m47/47\u001b[0m \u001b[32m━━━━━━━━━━━━━━━━━━━━\u001b[0m\u001b[37m\u001b[0m \u001b[1m0s\u001b[0m 4ms/step - accuracy: 0.5990 - loss: 0.6678 - val_accuracy: 0.6160 - val_loss: 0.6655\n",
            "Epoch 8/50\n",
            "\u001b[1m47/47\u001b[0m \u001b[32m━━━━━━━━━━━━━━━━━━━━\u001b[0m\u001b[37m\u001b[0m \u001b[1m0s\u001b[0m 5ms/step - accuracy: 0.5971 - loss: 0.6562 - val_accuracy: 0.5800 - val_loss: 0.6689\n",
            "Epoch 9/50\n",
            "\u001b[1m47/47\u001b[0m \u001b[32m━━━━━━━━━━━━━━━━━━━━\u001b[0m\u001b[37m\u001b[0m \u001b[1m0s\u001b[0m 5ms/step - accuracy: 0.5826 - loss: 0.6621 - val_accuracy: 0.5600 - val_loss: 0.6713\n",
            "Epoch 10/50\n",
            "\u001b[1m47/47\u001b[0m \u001b[32m━━━━━━━━━━━━━━━━━━━━\u001b[0m\u001b[37m\u001b[0m \u001b[1m0s\u001b[0m 4ms/step - accuracy: 0.6038 - loss: 0.6448 - val_accuracy: 0.5920 - val_loss: 0.6776\n",
            "Epoch 11/50\n",
            "\u001b[1m47/47\u001b[0m \u001b[32m━━━━━━━━━━━━━━━━━━━━\u001b[0m\u001b[37m\u001b[0m \u001b[1m0s\u001b[0m 7ms/step - accuracy: 0.6344 - loss: 0.6440 - val_accuracy: 0.6120 - val_loss: 0.6671\n",
            "Epoch 12/50\n",
            "\u001b[1m47/47\u001b[0m \u001b[32m━━━━━━━━━━━━━━━━━━━━\u001b[0m\u001b[37m\u001b[0m \u001b[1m1s\u001b[0m 7ms/step - accuracy: 0.6447 - loss: 0.6351 - val_accuracy: 0.5840 - val_loss: 0.6696\n",
            "Epoch 13/50\n",
            "\u001b[1m47/47\u001b[0m \u001b[32m━━━━━━━━━━━━━━━━━━━━\u001b[0m\u001b[37m\u001b[0m \u001b[1m0s\u001b[0m 2ms/step - accuracy: 0.6437 - loss: 0.6331 - val_accuracy: 0.5600 - val_loss: 0.7094\n",
            "Epoch 14/50\n",
            "\u001b[1m47/47\u001b[0m \u001b[32m━━━━━━━━━━━━━━━━━━━━\u001b[0m\u001b[37m\u001b[0m \u001b[1m0s\u001b[0m 2ms/step - accuracy: 0.6647 - loss: 0.6380 - val_accuracy: 0.5640 - val_loss: 0.6789\n",
            "Epoch 15/50\n",
            "\u001b[1m47/47\u001b[0m \u001b[32m━━━━━━━━━━━━━━━━━━━━\u001b[0m\u001b[37m\u001b[0m \u001b[1m0s\u001b[0m 2ms/step - accuracy: 0.6355 - loss: 0.6266 - val_accuracy: 0.5960 - val_loss: 0.6689\n",
            "Epoch 16/50\n",
            "\u001b[1m47/47\u001b[0m \u001b[32m━━━━━━━━━━━━━━━━━━━━\u001b[0m\u001b[37m\u001b[0m \u001b[1m0s\u001b[0m 3ms/step - accuracy: 0.6493 - loss: 0.6033 - val_accuracy: 0.5600 - val_loss: 0.6864\n",
            "Epoch 17/50\n",
            "\u001b[1m47/47\u001b[0m \u001b[32m━━━━━━━━━━━━━━━━━━━━\u001b[0m\u001b[37m\u001b[0m \u001b[1m0s\u001b[0m 2ms/step - accuracy: 0.6414 - loss: 0.6231 - val_accuracy: 0.5880 - val_loss: 0.6873\n",
            "Epoch 18/50\n",
            "\u001b[1m47/47\u001b[0m \u001b[32m━━━━━━━━━━━━━━━━━━━━\u001b[0m\u001b[37m\u001b[0m \u001b[1m0s\u001b[0m 3ms/step - accuracy: 0.6475 - loss: 0.6230 - val_accuracy: 0.5800 - val_loss: 0.6714\n",
            "Epoch 19/50\n",
            "\u001b[1m47/47\u001b[0m \u001b[32m━━━━━━━━━━━━━━━━━━━━\u001b[0m\u001b[37m\u001b[0m \u001b[1m0s\u001b[0m 2ms/step - accuracy: 0.6805 - loss: 0.6006 - val_accuracy: 0.5880 - val_loss: 0.6861\n",
            "Epoch 20/50\n",
            "\u001b[1m47/47\u001b[0m \u001b[32m━━━━━━━━━━━━━━━━━━━━\u001b[0m\u001b[37m\u001b[0m \u001b[1m0s\u001b[0m 2ms/step - accuracy: 0.6740 - loss: 0.5921 - val_accuracy: 0.5600 - val_loss: 0.6867\n",
            "Epoch 21/50\n",
            "\u001b[1m47/47\u001b[0m \u001b[32m━━━━━━━━━━━━━━━━━━━━\u001b[0m\u001b[37m\u001b[0m \u001b[1m0s\u001b[0m 2ms/step - accuracy: 0.6375 - loss: 0.6091 - val_accuracy: 0.5600 - val_loss: 0.6776\n",
            "Epoch 22/50\n",
            "\u001b[1m47/47\u001b[0m \u001b[32m━━━━━━━━━━━━━━━━━━━━\u001b[0m\u001b[37m\u001b[0m \u001b[1m0s\u001b[0m 2ms/step - accuracy: 0.6814 - loss: 0.5941 - val_accuracy: 0.5800 - val_loss: 0.6750\n",
            "Epoch 23/50\n",
            "\u001b[1m47/47\u001b[0m \u001b[32m━━━━━━━━━━━━━━━━━━━━\u001b[0m\u001b[37m\u001b[0m \u001b[1m0s\u001b[0m 2ms/step - accuracy: 0.7124 - loss: 0.5676 - val_accuracy: 0.5880 - val_loss: 0.6753\n",
            "Epoch 24/50\n",
            "\u001b[1m47/47\u001b[0m \u001b[32m━━━━━━━━━━━━━━━━━━━━\u001b[0m\u001b[37m\u001b[0m \u001b[1m0s\u001b[0m 3ms/step - accuracy: 0.7134 - loss: 0.5702 - val_accuracy: 0.5840 - val_loss: 0.6762\n",
            "Epoch 25/50\n",
            "\u001b[1m47/47\u001b[0m \u001b[32m━━━━━━━━━━━━━━━━━━━━\u001b[0m\u001b[37m\u001b[0m \u001b[1m0s\u001b[0m 2ms/step - accuracy: 0.7296 - loss: 0.5628 - val_accuracy: 0.5920 - val_loss: 0.6814\n",
            "Epoch 26/50\n",
            "\u001b[1m47/47\u001b[0m \u001b[32m━━━━━━━━━━━━━━━━━━━━\u001b[0m\u001b[37m\u001b[0m \u001b[1m0s\u001b[0m 2ms/step - accuracy: 0.7156 - loss: 0.5738 - val_accuracy: 0.5440 - val_loss: 0.6871\n",
            "Epoch 27/50\n",
            "\u001b[1m47/47\u001b[0m \u001b[32m━━━━━━━━━━━━━━━━━━━━\u001b[0m\u001b[37m\u001b[0m \u001b[1m0s\u001b[0m 3ms/step - accuracy: 0.6986 - loss: 0.5754 - val_accuracy: 0.5800 - val_loss: 0.6807\n",
            "Epoch 28/50\n",
            "\u001b[1m47/47\u001b[0m \u001b[32m━━━━━━━━━━━━━━━━━━━━\u001b[0m\u001b[37m\u001b[0m \u001b[1m0s\u001b[0m 2ms/step - accuracy: 0.7411 - loss: 0.5617 - val_accuracy: 0.5880 - val_loss: 0.6830\n",
            "Epoch 29/50\n",
            "\u001b[1m47/47\u001b[0m \u001b[32m━━━━━━━━━━━━━━━━━━━━\u001b[0m\u001b[37m\u001b[0m \u001b[1m0s\u001b[0m 3ms/step - accuracy: 0.7179 - loss: 0.5641 - val_accuracy: 0.5680 - val_loss: 0.6866\n",
            "Epoch 30/50\n",
            "\u001b[1m47/47\u001b[0m \u001b[32m━━━━━━━━━━━━━━━━━━━━\u001b[0m\u001b[37m\u001b[0m \u001b[1m0s\u001b[0m 2ms/step - accuracy: 0.7246 - loss: 0.5648 - val_accuracy: 0.5440 - val_loss: 0.7116\n",
            "Epoch 31/50\n",
            "\u001b[1m47/47\u001b[0m \u001b[32m━━━━━━━━━━━━━━━━━━━━\u001b[0m\u001b[37m\u001b[0m \u001b[1m0s\u001b[0m 2ms/step - accuracy: 0.7300 - loss: 0.5534 - val_accuracy: 0.5800 - val_loss: 0.6845\n",
            "Epoch 32/50\n",
            "\u001b[1m47/47\u001b[0m \u001b[32m━━━━━━━━━━━━━━━━━━━━\u001b[0m\u001b[37m\u001b[0m \u001b[1m0s\u001b[0m 2ms/step - accuracy: 0.7160 - loss: 0.5533 - val_accuracy: 0.5840 - val_loss: 0.6941\n",
            "Epoch 33/50\n",
            "\u001b[1m47/47\u001b[0m \u001b[32m━━━━━━━━━━━━━━━━━━━━\u001b[0m\u001b[37m\u001b[0m \u001b[1m0s\u001b[0m 2ms/step - accuracy: 0.7351 - loss: 0.5376 - val_accuracy: 0.5440 - val_loss: 0.7008\n",
            "Epoch 34/50\n",
            "\u001b[1m47/47\u001b[0m \u001b[32m━━━━━━━━━━━━━━━━━━━━\u001b[0m\u001b[37m\u001b[0m \u001b[1m0s\u001b[0m 3ms/step - accuracy: 0.7442 - loss: 0.5391 - val_accuracy: 0.5760 - val_loss: 0.7056\n",
            "Epoch 35/50\n",
            "\u001b[1m47/47\u001b[0m \u001b[32m━━━━━━━━━━━━━━━━━━━━\u001b[0m\u001b[37m\u001b[0m \u001b[1m0s\u001b[0m 2ms/step - accuracy: 0.7702 - loss: 0.5236 - val_accuracy: 0.5800 - val_loss: 0.6897\n",
            "Epoch 36/50\n",
            "\u001b[1m47/47\u001b[0m \u001b[32m━━━━━━━━━━━━━━━━━━━━\u001b[0m\u001b[37m\u001b[0m \u001b[1m0s\u001b[0m 3ms/step - accuracy: 0.7815 - loss: 0.5117 - val_accuracy: 0.5800 - val_loss: 0.6910\n",
            "Epoch 37/50\n",
            "\u001b[1m47/47\u001b[0m \u001b[32m━━━━━━━━━━━━━━━━━━━━\u001b[0m\u001b[37m\u001b[0m \u001b[1m0s\u001b[0m 2ms/step - accuracy: 0.7619 - loss: 0.5267 - val_accuracy: 0.5400 - val_loss: 0.7138\n",
            "Epoch 38/50\n",
            "\u001b[1m47/47\u001b[0m \u001b[32m━━━━━━━━━━━━━━━━━━━━\u001b[0m\u001b[37m\u001b[0m \u001b[1m0s\u001b[0m 2ms/step - accuracy: 0.7730 - loss: 0.5109 - val_accuracy: 0.5360 - val_loss: 0.7152\n",
            "Epoch 39/50\n",
            "\u001b[1m47/47\u001b[0m \u001b[32m━━━━━━━━━━━━━━━━━━━━\u001b[0m\u001b[37m\u001b[0m \u001b[1m0s\u001b[0m 2ms/step - accuracy: 0.7493 - loss: 0.5307 - val_accuracy: 0.5800 - val_loss: 0.6963\n",
            "Epoch 40/50\n",
            "\u001b[1m47/47\u001b[0m \u001b[32m━━━━━━━━━━━━━━━━━━━━\u001b[0m\u001b[37m\u001b[0m \u001b[1m0s\u001b[0m 2ms/step - accuracy: 0.7762 - loss: 0.5061 - val_accuracy: 0.5800 - val_loss: 0.6973\n",
            "Epoch 41/50\n",
            "\u001b[1m47/47\u001b[0m \u001b[32m━━━━━━━━━━━━━━━━━━━━\u001b[0m\u001b[37m\u001b[0m \u001b[1m0s\u001b[0m 3ms/step - accuracy: 0.7883 - loss: 0.5208 - val_accuracy: 0.5240 - val_loss: 0.7201\n",
            "Epoch 42/50\n",
            "\u001b[1m47/47\u001b[0m \u001b[32m━━━━━━━━━━━━━━━━━━━━\u001b[0m\u001b[37m\u001b[0m \u001b[1m0s\u001b[0m 3ms/step - accuracy: 0.7747 - loss: 0.5074 - val_accuracy: 0.5600 - val_loss: 0.7043\n",
            "Epoch 43/50\n",
            "\u001b[1m47/47\u001b[0m \u001b[32m━━━━━━━━━━━━━━━━━━━━\u001b[0m\u001b[37m\u001b[0m \u001b[1m0s\u001b[0m 2ms/step - accuracy: 0.8091 - loss: 0.4962 - val_accuracy: 0.5600 - val_loss: 0.7070\n",
            "Epoch 44/50\n",
            "\u001b[1m47/47\u001b[0m \u001b[32m━━━━━━━━━━━━━━━━━━━━\u001b[0m\u001b[37m\u001b[0m \u001b[1m0s\u001b[0m 2ms/step - accuracy: 0.7764 - loss: 0.5175 - val_accuracy: 0.5280 - val_loss: 0.7239\n",
            "Epoch 45/50\n",
            "\u001b[1m47/47\u001b[0m \u001b[32m━━━━━━━━━━━━━━━━━━━━\u001b[0m\u001b[37m\u001b[0m \u001b[1m0s\u001b[0m 3ms/step - accuracy: 0.7807 - loss: 0.5023 - val_accuracy: 0.5440 - val_loss: 0.7163\n",
            "Epoch 46/50\n",
            "\u001b[1m47/47\u001b[0m \u001b[32m━━━━━━━━━━━━━━━━━━━━\u001b[0m\u001b[37m\u001b[0m \u001b[1m0s\u001b[0m 2ms/step - accuracy: 0.7841 - loss: 0.4939 - val_accuracy: 0.5520 - val_loss: 0.7057\n",
            "Epoch 47/50\n",
            "\u001b[1m47/47\u001b[0m \u001b[32m━━━━━━━━━━━━━━━━━━━━\u001b[0m\u001b[37m\u001b[0m \u001b[1m0s\u001b[0m 4ms/step - accuracy: 0.8073 - loss: 0.4894 - val_accuracy: 0.5320 - val_loss: 0.7247\n",
            "Epoch 48/50\n",
            "\u001b[1m47/47\u001b[0m \u001b[32m━━━━━━━━━━━━━━━━━━━━\u001b[0m\u001b[37m\u001b[0m \u001b[1m0s\u001b[0m 5ms/step - accuracy: 0.7794 - loss: 0.4866 - val_accuracy: 0.5360 - val_loss: 0.7227\n",
            "Epoch 49/50\n",
            "\u001b[1m47/47\u001b[0m \u001b[32m━━━━━━━━━━━━━━━━━━━━\u001b[0m\u001b[37m\u001b[0m \u001b[1m0s\u001b[0m 4ms/step - accuracy: 0.7891 - loss: 0.4924 - val_accuracy: 0.5560 - val_loss: 0.7111\n",
            "Epoch 50/50\n",
            "\u001b[1m47/47\u001b[0m \u001b[32m━━━━━━━━━━━━━━━━━━━━\u001b[0m\u001b[37m\u001b[0m \u001b[1m0s\u001b[0m 4ms/step - accuracy: 0.7911 - loss: 0.4932 - val_accuracy: 0.5680 - val_loss: 0.7121\n"
          ]
        },
        {
          "output_type": "display_data",
          "data": {
            "text/plain": [
              "<Figure size 640x480 with 1 Axes>"
            ],
            "image/png": "[encoded data removed]"
          },
          "metadata": {}
        },
        {
          "output_type": "stream",
          "name": "stdout",
          "text": [
            "None\n"
          ]
        },
        {
          "output_type": "display_data",
          "data": {
            "text/plain": [
              "<Figure size 640x480 with 1 Axes>"
            ],
            "image/png": "[encoded data removed]"
          },
          "metadata": {}
        },
        {
          "output_type": "stream",
          "name": "stdout",
          "text": [
            "None\n"
          ]
        }
      ]
    },
    {
      "cell_type": "markdown",
      "source": [
        "# Two Layer Neural Network"
      ],
      "metadata": {
        "id": "yMlGfESd4-Nw"
      }
    },
    {
      "cell_type": "code",
      "source": [
        "model = Sequential()\n",
        "model.add(Dense(32, input_dim=500,activation='relu'))\n",
        "model.add(Dense(1, activation='sigmoid'))\n",
        "model.compile(optimizer='rmsprop', loss='binary_crossentropy', metrics=['accuracy'])\n"
      ],
      "metadata": {
        "colab": {
          "base_uri": "https://localhost:8080/"
        },
        "id": "rs4zgUY74w7_",
        "outputId": "6fd02259-82d4-462d-c45c-216b3dd5c0e8"
      },
      "execution_count": 28,
      "outputs": [
        {
          "output_type": "stream",
          "name": "stderr",
          "text": [
            "/usr/local/lib/python3.10/dist-packages/keras/src/layers/core/dense.py:87: UserWarning: Do not pass an `input_shape`/`input_dim` argument to a layer. When using Sequential models, prefer using an `Input(shape)` object as the first layer in the model instead.\n",
            "  super().__init__(activity_regularizer=activity_regularizer, **kwargs)\n"
          ]
        }
      ]
    },
    {
      "cell_type": "code",
      "source": [
        "score = model.evaluate(data,labels, verbose=0)\n",
        "mapped = zip(model.metrics_names, score)\n",
        "M = set(mapped)\n",
        "print ('Before Training:', M)\n",
        "model.fit(data, labels, epochs=10, batch_size=32, verbose=0)"
      ],
      "metadata": {
        "colab": {
          "base_uri": "https://localhost:8080/"
        },
        "id": "kSA6LWA_5eQG",
        "outputId": "1c734e77-dc86-4292-b9d1-dc43838de355"
      },
      "execution_count": 29,
      "outputs": [
        {
          "output_type": "stream",
          "name": "stdout",
          "text": [
            "Before Training: {('compile_metrics', 0.515999972820282), ('loss', 0.7340129017829895)}\n"
          ]
        },
        {
          "output_type": "execute_result",
          "data": {
            "text/plain": [
              "<keras.src.callbacks.history.History at 0x7c0b5c7a9a80>"
            ]
          },
          "metadata": {},
          "execution_count": 29
        }
      ]
    },
    {
      "cell_type": "code",
      "source": [
        "score = model.evaluate(data,labels, verbose=0)\n",
        "mapped = zip(model.metrics_names, score)\n",
        "M = set(mapped)\n",
        "print ('After Training:', M)"
      ],
      "metadata": {
        "colab": {
          "base_uri": "https://localhost:8080/"
        },
        "id": "rbrncUf45jdT",
        "outputId": "12362344-5038-4787-f518-ea5c5f416257"
      },
      "execution_count": 30,
      "outputs": [
        {
          "output_type": "stream",
          "name": "stdout",
          "text": [
            "After Training: {('compile_metrics', 0.5979999899864197), ('loss', 0.6216824054718018)}\n"
          ]
        }
      ]
    },
    {
      "cell_type": "markdown",
      "source": [
        "# Multilayer Neural Network & Multiclass"
      ],
      "metadata": {
        "id": "zPP0d59P5mIW"
      }
    },
    {
      "cell_type": "code",
      "source": [
        "from keras.utils import to_categorical\n",
        "\n",
        "model = Sequential()\n",
        "model.add(Dense(64, input_dim=500,activation = 'relu'))\n",
        "model.add(Dense(32,activation='relu'))\n",
        "model.add(Dense(10,activation='softmax'))\n",
        "\n",
        "model.compile(optimizer='rmsprop', loss='categorical_crossentropy', metrics=['categorical_accuracy'])\n",
        "\n",
        "data = np.random.random((1000, 500))\n",
        "labels = to_categorical(np.random.randint(10, size=(1000, 1)))\n",
        "#print(data)\n",
        "#print(labels)\n",
        "\n",
        "score = model.evaluate(data,labels, verbose=0)\n",
        "mapped = zip(model.metrics_names, score)\n",
        "M = set(mapped)\n",
        "print ('Before Training:', M)\n",
        "\n",
        "model.fit(data, labels, epochs=20, batch_size=32, verbose=0)\n",
        "\n",
        "score = model.evaluate(data,labels, verbose=0)\n",
        "mapped = zip(model.metrics_names, score)\n",
        "M = set(mapped)\n",
        "print ('After Training:', M)"
      ],
      "metadata": {
        "colab": {
          "base_uri": "https://localhost:8080/"
        },
        "id": "Enj9lwBl51G3",
        "outputId": "7e7cc1fc-04cc-4f94-a327-a9f8fa49c9ed"
      },
      "execution_count": 34,
      "outputs": [
        {
          "output_type": "stream",
          "name": "stdout",
          "text": [
            "Before Training: {('loss', 2.418252468109131), ('compile_metrics', 0.10700000077486038)}\n",
            "After Training: {('loss', 1.9263672828674316), ('compile_metrics', 0.2759999930858612)}\n"
          ]
        }
      ]
    },
    {
      "cell_type": "markdown",
      "source": [
        "# House Price Prediction"
      ],
      "metadata": {
        "id": "bhk2CAcbwgqF"
      }
    },
    {
      "cell_type": "markdown",
      "source": [
        "##1.Step-by-Step Python Code for House Price Prediction\n",
        "1. Import Required Libraries\n"
      ],
      "metadata": {
        "id": "Bd3UutepzC-J"
      }
    },
    {
      "cell_type": "code",
      "source": [
        "import numpy as np\n",
        "import pandas as pd\n",
        "from sklearn.model_selection import train_test_split\n",
        "from sklearn.preprocessing import StandardScaler\n",
        "from tensorflow.keras.models import Sequential\n",
        "from tensorflow.keras.layers import Dense\n",
        "from tensorflow.keras.optimizers import Adam\n"
      ],
      "metadata": {
        "id": "PDNasT8Jwf6s"
      },
      "execution_count": 35,
      "outputs": []
    },
    {
      "cell_type": "markdown",
      "source": [
        "**2. Create a Synthetic Dataset**\n",
        "\n",
        "For demonstration purposes, we'll create a synthetic dataset with features like square footage, number of bedrooms, number of bathrooms, and age of the house.\n"
      ],
      "metadata": {
        "id": "cFaodSxrzKCE"
      }
    },
    {
      "cell_type": "code",
      "source": [
        "# Set the random seed for reproducibility\n",
        "np.random.seed(42)\n",
        "\n",
        "# Generate synthetic data for the regression problem\n",
        "num_samples = 1000\n",
        "square_footage = np.random.randint(500, 4000, num_samples)\n",
        "num_bedrooms = np.random.randint(1, 6, num_samples)\n",
        "num_bathrooms = np.random.randint(1, 4, num_samples)\n",
        "age_of_house = np.random.randint(0, 50, num_samples)\n",
        "\n",
        "# Simulate house prices with some random noise\n",
        "house_prices = (square_footage * 300 + num_bedrooms * 5000 + num_bathrooms * 3000\n",
        "                - age_of_house * 200 + np.random.normal(0, 10000, num_samples))\n",
        "\n",
        "# Create a DataFrame\n",
        "data = pd.DataFrame({\n",
        "    'SquareFootage': square_footage,\n",
        "    'NumBedrooms': num_bedrooms,\n",
        "    'NumBathrooms': num_bathrooms,\n",
        "    'AgeOfHouse': age_of_house,\n",
        "    'Price': house_prices\n",
        "})\n",
        "\n",
        "# Display first few rows of the dataset\n",
        "print(data.head())\n"
      ],
      "metadata": {
        "colab": {
          "base_uri": "https://localhost:8080/"
        },
        "id": "zoNYygfuBDaH",
        "outputId": "7a1b7c97-3855-41dc-88cd-07dcf31ae0e2"
      },
      "execution_count": 36,
      "outputs": [
        {
          "output_type": "stream",
          "name": "stdout",
          "text": [
            "   SquareFootage  NumBedrooms  NumBathrooms  AgeOfHouse         Price\n",
            "0           3674            2             1          27  1.111565e+06\n",
            "1           1360            1             2          42  4.114233e+05\n",
            "2           1794            2             1          40  5.497903e+05\n",
            "3           1630            1             1          38  4.866449e+05\n",
            "4           1595            4             2          21  5.094402e+05\n"
          ]
        }
      ]
    },
    {
      "cell_type": "markdown",
      "source": [
        "**3. Preprocess the Data**\n",
        "\n",
        "Split the data into training and test sets and scale the features.\n"
      ],
      "metadata": {
        "id": "uXC4RXhVzW2w"
      }
    },
    {
      "cell_type": "code",
      "source": [
        "# Split the data into features (X) and target (y)\n",
        "X = data[['SquareFootage', 'NumBedrooms', 'NumBathrooms', 'AgeOfHouse']]\n",
        "y = data['Price']\n",
        "\n",
        "# Split the dataset into training and testing sets\n",
        "X_train, X_test, y_train, y_test = train_test_split(X, y, test_size=0.2, random_state=42)\n",
        "\n",
        "# Standardize the features\n",
        "scaler = StandardScaler()\n",
        "X_train_scaled = scaler.fit_transform(X_train)\n",
        "X_test_scaled = scaler.transform(X_test)\n"
      ],
      "metadata": {
        "id": "bqHFiBeeBLF2"
      },
      "execution_count": 37,
      "outputs": []
    },
    {
      "cell_type": "markdown",
      "source": [
        "**4. Build the Neural Network Model**\n",
        "\n",
        "We’ll build a neural network with an input layer, hidden layers, and an output layer.\n"
      ],
      "metadata": {
        "id": "Y5-Ieryvzg2s"
      }
    },
    {
      "cell_type": "code",
      "source": [
        "# Initialize the neural network model\n",
        "model = Sequential()\n",
        "\n",
        "# Input layer and the first hidden layer with 64 neurons and ReLU activation\n",
        "model.add(Dense(64, input_dim=X_train_scaled.shape[1], activation='relu'))\n",
        "\n",
        "# Second hidden layer with 32 neurons and ReLU activation\n",
        "model.add(Dense(32, activation='relu'))\n",
        "\n",
        "# Output layer with 1 neuron (since it's a regression problem)\n",
        "model.add(Dense(1))\n",
        "\n",
        "# Compile the model with Mean Squared Error loss and Adam optimizer\n",
        "model.compile(optimizer=Adam(learning_rate=0.01), loss='mse')\n",
        "\n",
        "# Display the model summary\n",
        "model.summary()\n"
      ],
      "metadata": {
        "colab": {
          "base_uri": "https://localhost:8080/",
          "height": 287
        },
        "id": "1v3wITJEBMIy",
        "outputId": "457863ae-bb14-457a-b3de-886fa615a3ef"
      },
      "execution_count": 38,
      "outputs": [
        {
          "output_type": "stream",
          "name": "stderr",
          "text": [
            "/usr/local/lib/python3.10/dist-packages/keras/src/layers/core/dense.py:87: UserWarning: Do not pass an `input_shape`/`input_dim` argument to a layer. When using Sequential models, prefer using an `Input(shape)` object as the first layer in the model instead.\n",
            "  super().__init__(activity_regularizer=activity_regularizer, **kwargs)\n"
          ]
        },
        {
          "output_type": "display_data",
          "data": {
            "text/plain": [
              "\u001b[1mModel: \"sequential_7\"\u001b[0m\n"
            ],
            "text/html": [
              "<pre style=\"white-space:pre;overflow-x:auto;line-height:normal;font-family:Menlo,'DejaVu Sans Mono',consolas,'Courier New',monospace\"><span style=\"font-weight: bold\">Model: \"sequential_7\"</span>\n",
              "</pre>\n"
            ]
          },
          "metadata": {}
        },
        {
          "output_type": "display_data",
          "data": {
            "text/plain": [
              "┏━━━━━━━━━━━━━━━━━━━━━━━━━━━━━━━━━━━━━━┳━━━━━━━━━━━━━━━━━━━━━━━━━━━━━┳━━━━━━━━━━━━━━━━━┓\n",
              "┃\u001b[1m \u001b[0m\u001b[1mLayer (type)                        \u001b[0m\u001b[1m \u001b[0m┃\u001b[1m \u001b[0m\u001b[1mOutput Shape               \u001b[0m\u001b[1m \u001b[0m┃\u001b[1m \u001b[0m\u001b[1m        Param #\u001b[0m\u001b[1m \u001b[0m┃\n",
              "┡━━━━━━━━━━━━━━━━━━━━━━━━━━━━━━━━━━━━━━╇━━━━━━━━━━━━━━━━━━━━━━━━━━━━━╇━━━━━━━━━━━━━━━━━┩\n",
              "│ dense_16 (\u001b[38;5;33mDense\u001b[0m)                     │ (\u001b[38;5;45mNone\u001b[0m, \u001b[38;5;34m64\u001b[0m)                  │             \u001b[38;5;34m320\u001b[0m │\n",
              "├──────────────────────────────────────┼─────────────────────────────┼─────────────────┤\n",
              "│ dense_17 (\u001b[38;5;33mDense\u001b[0m)                     │ (\u001b[38;5;45mNone\u001b[0m, \u001b[38;5;34m32\u001b[0m)                  │           \u001b[38;5;34m2,080\u001b[0m │\n",
              "├──────────────────────────────────────┼─────────────────────────────┼─────────────────┤\n",
              "│ dense_18 (\u001b[38;5;33mDense\u001b[0m)                     │ (\u001b[38;5;45mNone\u001b[0m, \u001b[38;5;34m1\u001b[0m)                   │              \u001b[38;5;34m33\u001b[0m │\n",
              "└──────────────────────────────────────┴─────────────────────────────┴─────────────────┘\n"
            ],
            "text/html": [
              "<pre style=\"white-space:pre;overflow-x:auto;line-height:normal;font-family:Menlo,'DejaVu Sans Mono',consolas,'Courier New',monospace\">┏━━━━━━━━━━━━━━━━━━━━━━━━━━━━━━━━━━━━━━┳━━━━━━━━━━━━━━━━━━━━━━━━━━━━━┳━━━━━━━━━━━━━━━━━┓\n",
              "┃<span style=\"font-weight: bold\"> Layer (type)                         </span>┃<span style=\"font-weight: bold\"> Output Shape                </span>┃<span style=\"font-weight: bold\">         Param # </span>┃\n",
              "┡━━━━━━━━━━━━━━━━━━━━━━━━━━━━━━━━━━━━━━╇━━━━━━━━━━━━━━━━━━━━━━━━━━━━━╇━━━━━━━━━━━━━━━━━┩\n",
              "│ dense_16 (<span style=\"color: #0087ff; text-decoration-color: #0087ff\">Dense</span>)                     │ (<span style=\"color: #00d7ff; text-decoration-color: #00d7ff\">None</span>, <span style=\"color: #00af00; text-decoration-color: #00af00\">64</span>)                  │             <span style=\"color: #00af00; text-decoration-color: #00af00\">320</span> │\n",
              "├──────────────────────────────────────┼─────────────────────────────┼─────────────────┤\n",
              "│ dense_17 (<span style=\"color: #0087ff; text-decoration-color: #0087ff\">Dense</span>)                     │ (<span style=\"color: #00d7ff; text-decoration-color: #00d7ff\">None</span>, <span style=\"color: #00af00; text-decoration-color: #00af00\">32</span>)                  │           <span style=\"color: #00af00; text-decoration-color: #00af00\">2,080</span> │\n",
              "├──────────────────────────────────────┼─────────────────────────────┼─────────────────┤\n",
              "│ dense_18 (<span style=\"color: #0087ff; text-decoration-color: #0087ff\">Dense</span>)                     │ (<span style=\"color: #00d7ff; text-decoration-color: #00d7ff\">None</span>, <span style=\"color: #00af00; text-decoration-color: #00af00\">1</span>)                   │              <span style=\"color: #00af00; text-decoration-color: #00af00\">33</span> │\n",
              "└──────────────────────────────────────┴─────────────────────────────┴─────────────────┘\n",
              "</pre>\n"
            ]
          },
          "metadata": {}
        },
        {
          "output_type": "display_data",
          "data": {
            "text/plain": [
              "\u001b[1m Total params: \u001b[0m\u001b[38;5;34m2,433\u001b[0m (9.50 KB)\n"
            ],
            "text/html": [
              "<pre style=\"white-space:pre;overflow-x:auto;line-height:normal;font-family:Menlo,'DejaVu Sans Mono',consolas,'Courier New',monospace\"><span style=\"font-weight: bold\"> Total params: </span><span style=\"color: #00af00; text-decoration-color: #00af00\">2,433</span> (9.50 KB)\n",
              "</pre>\n"
            ]
          },
          "metadata": {}
        },
        {
          "output_type": "display_data",
          "data": {
            "text/plain": [
              "\u001b[1m Trainable params: \u001b[0m\u001b[38;5;34m2,433\u001b[0m (9.50 KB)\n"
            ],
            "text/html": [
              "<pre style=\"white-space:pre;overflow-x:auto;line-height:normal;font-family:Menlo,'DejaVu Sans Mono',consolas,'Courier New',monospace\"><span style=\"font-weight: bold\"> Trainable params: </span><span style=\"color: #00af00; text-decoration-color: #00af00\">2,433</span> (9.50 KB)\n",
              "</pre>\n"
            ]
          },
          "metadata": {}
        },
        {
          "output_type": "display_data",
          "data": {
            "text/plain": [
              "\u001b[1m Non-trainable params: \u001b[0m\u001b[38;5;34m0\u001b[0m (0.00 B)\n"
            ],
            "text/html": [
              "<pre style=\"white-space:pre;overflow-x:auto;line-height:normal;font-family:Menlo,'DejaVu Sans Mono',consolas,'Courier New',monospace\"><span style=\"font-weight: bold\"> Non-trainable params: </span><span style=\"color: #00af00; text-decoration-color: #00af00\">0</span> (0.00 B)\n",
              "</pre>\n"
            ]
          },
          "metadata": {}
        }
      ]
    },
    {
      "cell_type": "markdown",
      "source": [
        "**5. Train the Model**\n",
        "\n",
        "Train the model using the training data.\n"
      ],
      "metadata": {
        "id": "K5_AMWUEzqF6"
      }
    },
    {
      "cell_type": "code",
      "source": [
        "# Train the model on the training data\n",
        "history = model.fit(X_train_scaled, y_train, validation_split=0.2, epochs=100, batch_size=32, verbose=2)\n"
      ],
      "metadata": {
        "colab": {
          "base_uri": "https://localhost:8080/"
        },
        "collapsed": true,
        "id": "DGPFelyCBOve",
        "outputId": "85661f8f-602a-432f-887d-e26b100a4646"
      },
      "execution_count": 17,
      "outputs": [
        {
          "output_type": "stream",
          "name": "stdout",
          "text": [
            "Epoch 1/100\n",
            "20/20 - 1s - 56ms/step - loss: 594203246592.0000 - val_loss: 580138696704.0000\n",
            "Epoch 2/100\n",
            "20/20 - 0s - 4ms/step - loss: 594089082880.0000 - val_loss: 579902570496.0000\n",
            "Epoch 3/100\n",
            "20/20 - 0s - 4ms/step - loss: 593606344704.0000 - val_loss: 579087761408.0000\n",
            "Epoch 4/100\n",
            "20/20 - 0s - 4ms/step - loss: 592269344768.0000 - val_loss: 577122009088.0000\n",
            "Epoch 5/100\n",
            "20/20 - 0s - 6ms/step - loss: 589402996736.0000 - val_loss: 573290577920.0000\n",
            "Epoch 6/100\n",
            "20/20 - 0s - 7ms/step - loss: 584202715136.0000 - val_loss: 566857105408.0000\n",
            "Epoch 7/100\n",
            "20/20 - 0s - 4ms/step - loss: 576089882624.0000 - val_loss: 557020741632.0000\n",
            "Epoch 8/100\n",
            "20/20 - 0s - 7ms/step - loss: 564059570176.0000 - val_loss: 543295176704.0000\n",
            "Epoch 9/100\n",
            "20/20 - 0s - 4ms/step - loss: 547719905280.0000 - val_loss: 524885262336.0000\n",
            "Epoch 10/100\n",
            "20/20 - 0s - 8ms/step - loss: 526314799104.0000 - val_loss: 501698265088.0000\n",
            "Epoch 11/100\n",
            "20/20 - 0s - 4ms/step - loss: 499754106880.0000 - val_loss: 473270059008.0000\n",
            "Epoch 12/100\n",
            "20/20 - 0s - 7ms/step - loss: 467949846528.0000 - val_loss: 440015585280.0000\n",
            "Epoch 13/100\n",
            "20/20 - 0s - 7ms/step - loss: 431548203008.0000 - val_loss: 401961320448.0000\n",
            "Epoch 14/100\n",
            "20/20 - 0s - 7ms/step - loss: 390490685440.0000 - val_loss: 360561868800.0000\n",
            "Epoch 15/100\n",
            "20/20 - 0s - 6ms/step - loss: 345980862464.0000 - val_loss: 316496871424.0000\n",
            "Epoch 16/100\n",
            "20/20 - 0s - 7ms/step - loss: 299844042752.0000 - val_loss: 269704183808.0000\n",
            "Epoch 17/100\n",
            "20/20 - 0s - 7ms/step - loss: 252084846592.0000 - val_loss: 224253837312.0000\n",
            "Epoch 18/100\n",
            "20/20 - 0s - 7ms/step - loss: 206048559104.0000 - val_loss: 180464074752.0000\n",
            "Epoch 19/100\n",
            "20/20 - 0s - 6ms/step - loss: 163062022144.0000 - val_loss: 140502859776.0000\n",
            "Epoch 20/100\n",
            "20/20 - 0s - 7ms/step - loss: 124333342720.0000 - val_loss: 106408902656.0000\n",
            "Epoch 21/100\n",
            "20/20 - 0s - 7ms/step - loss: 92366061568.0000 - val_loss: 77764632576.0000\n",
            "Epoch 22/100\n",
            "20/20 - 0s - 7ms/step - loss: 66411061248.0000 - val_loss: 55671533568.0000\n",
            "Epoch 23/100\n",
            "20/20 - 0s - 4ms/step - loss: 46982307840.0000 - val_loss: 39528062976.0000\n",
            "Epoch 24/100\n",
            "20/20 - 0s - 7ms/step - loss: 33127661568.0000 - val_loss: 28459214848.0000\n",
            "Epoch 25/100\n",
            "20/20 - 0s - 8ms/step - loss: 23917776896.0000 - val_loss: 21039097856.0000\n",
            "Epoch 26/100\n",
            "20/20 - 0s - 6ms/step - loss: 17870106624.0000 - val_loss: 16229652480.0000\n",
            "Epoch 27/100\n",
            "20/20 - 0s - 4ms/step - loss: 13984822272.0000 - val_loss: 13128223744.0000\n",
            "Epoch 28/100\n",
            "20/20 - 0s - 4ms/step - loss: 11427678208.0000 - val_loss: 11039827968.0000\n",
            "Epoch 29/100\n",
            "20/20 - 0s - 6ms/step - loss: 9693434880.0000 - val_loss: 9502428160.0000\n",
            "Epoch 30/100\n",
            "20/20 - 0s - 4ms/step - loss: 8390437888.0000 - val_loss: 8349428224.0000\n",
            "Epoch 31/100\n",
            "20/20 - 0s - 8ms/step - loss: 7396170240.0000 - val_loss: 7414096896.0000\n",
            "Epoch 32/100\n",
            "20/20 - 0s - 4ms/step - loss: 6568727040.0000 - val_loss: 6678821376.0000\n",
            "Epoch 33/100\n",
            "20/20 - 0s - 7ms/step - loss: 5895879680.0000 - val_loss: 6071180288.0000\n",
            "Epoch 34/100\n",
            "20/20 - 0s - 4ms/step - loss: 5344048128.0000 - val_loss: 5535780864.0000\n",
            "Epoch 35/100\n",
            "20/20 - 0s - 4ms/step - loss: 4864836096.0000 - val_loss: 5108500992.0000\n",
            "Epoch 36/100\n",
            "20/20 - 0s - 7ms/step - loss: 4473606144.0000 - val_loss: 4752284672.0000\n",
            "Epoch 37/100\n",
            "20/20 - 0s - 6ms/step - loss: 4154205696.0000 - val_loss: 4452850176.0000\n",
            "Epoch 38/100\n",
            "20/20 - 0s - 8ms/step - loss: 3887221248.0000 - val_loss: 4207217920.0000\n",
            "Epoch 39/100\n",
            "20/20 - 0s - 6ms/step - loss: 3659595776.0000 - val_loss: 4007670272.0000\n",
            "Epoch 40/100\n",
            "20/20 - 0s - 4ms/step - loss: 3477648640.0000 - val_loss: 3845031424.0000\n",
            "Epoch 41/100\n",
            "20/20 - 0s - 4ms/step - loss: 3333442816.0000 - val_loss: 3697319424.0000\n",
            "Epoch 42/100\n",
            "20/20 - 0s - 7ms/step - loss: 3192934656.0000 - val_loss: 3584115968.0000\n",
            "Epoch 43/100\n",
            "20/20 - 0s - 6ms/step - loss: 3091982848.0000 - val_loss: 3485725440.0000\n",
            "Epoch 44/100\n",
            "20/20 - 0s - 4ms/step - loss: 2997224192.0000 - val_loss: 3398230272.0000\n",
            "Epoch 45/100\n",
            "20/20 - 0s - 7ms/step - loss: 2915651072.0000 - val_loss: 3322682112.0000\n",
            "Epoch 46/100\n",
            "20/20 - 0s - 7ms/step - loss: 2846877696.0000 - val_loss: 3260375040.0000\n",
            "Epoch 47/100\n",
            "20/20 - 0s - 7ms/step - loss: 2785810944.0000 - val_loss: 3205978368.0000\n",
            "Epoch 48/100\n",
            "20/20 - 0s - 6ms/step - loss: 2727862784.0000 - val_loss: 3147041792.0000\n",
            "Epoch 49/100\n",
            "20/20 - 0s - 4ms/step - loss: 2678333952.0000 - val_loss: 3096134656.0000\n",
            "Epoch 50/100\n",
            "20/20 - 0s - 7ms/step - loss: 2631490048.0000 - val_loss: 3050465536.0000\n",
            "Epoch 51/100\n",
            "20/20 - 0s - 7ms/step - loss: 2588023296.0000 - val_loss: 3006430208.0000\n",
            "Epoch 52/100\n",
            "20/20 - 0s - 7ms/step - loss: 2547356160.0000 - val_loss: 2965091072.0000\n",
            "Epoch 53/100\n",
            "20/20 - 0s - 7ms/step - loss: 2507473408.0000 - val_loss: 2923867648.0000\n",
            "Epoch 54/100\n",
            "20/20 - 0s - 8ms/step - loss: 2471640064.0000 - val_loss: 2884449280.0000\n",
            "Epoch 55/100\n",
            "20/20 - 0s - 6ms/step - loss: 2432307712.0000 - val_loss: 2845937920.0000\n",
            "Epoch 56/100\n",
            "20/20 - 0s - 8ms/step - loss: 2398150912.0000 - val_loss: 2808903680.0000\n",
            "Epoch 57/100\n",
            "20/20 - 0s - 7ms/step - loss: 2364660224.0000 - val_loss: 2769075968.0000\n",
            "Epoch 58/100\n",
            "20/20 - 0s - 6ms/step - loss: 2328628992.0000 - val_loss: 2731482368.0000\n",
            "Epoch 59/100\n",
            "20/20 - 0s - 4ms/step - loss: 2296182528.0000 - val_loss: 2698163968.0000\n",
            "Epoch 60/100\n",
            "20/20 - 0s - 7ms/step - loss: 2263513600.0000 - val_loss: 2658475008.0000\n",
            "Epoch 61/100\n",
            "20/20 - 0s - 8ms/step - loss: 2232963584.0000 - val_loss: 2624163840.0000\n",
            "Epoch 62/100\n",
            "20/20 - 0s - 6ms/step - loss: 2201168128.0000 - val_loss: 2592619776.0000\n",
            "Epoch 63/100\n",
            "20/20 - 0s - 4ms/step - loss: 2169981952.0000 - val_loss: 2559780352.0000\n",
            "Epoch 64/100\n",
            "20/20 - 0s - 4ms/step - loss: 2139783424.0000 - val_loss: 2523894528.0000\n",
            "Epoch 65/100\n",
            "20/20 - 0s - 4ms/step - loss: 2108750208.0000 - val_loss: 2493633536.0000\n",
            "Epoch 66/100\n",
            "20/20 - 0s - 9ms/step - loss: 2078607360.0000 - val_loss: 2457357056.0000\n",
            "Epoch 67/100\n",
            "20/20 - 0s - 6ms/step - loss: 2049643264.0000 - val_loss: 2427954944.0000\n",
            "Epoch 68/100\n",
            "20/20 - 0s - 7ms/step - loss: 2021701632.0000 - val_loss: 2397723392.0000\n",
            "Epoch 69/100\n",
            "20/20 - 0s - 8ms/step - loss: 1992765184.0000 - val_loss: 2363424256.0000\n",
            "Epoch 70/100\n",
            "20/20 - 0s - 7ms/step - loss: 1965409024.0000 - val_loss: 2332480256.0000\n",
            "Epoch 71/100\n",
            "20/20 - 0s - 6ms/step - loss: 1935750528.0000 - val_loss: 2300540416.0000\n",
            "Epoch 72/100\n",
            "20/20 - 0s - 7ms/step - loss: 1907327232.0000 - val_loss: 2270452224.0000\n",
            "Epoch 73/100\n",
            "20/20 - 0s - 8ms/step - loss: 1880103680.0000 - val_loss: 2239018240.0000\n",
            "Epoch 74/100\n",
            "20/20 - 0s - 6ms/step - loss: 1852853248.0000 - val_loss: 2207724288.0000\n",
            "Epoch 75/100\n",
            "20/20 - 0s - 6ms/step - loss: 1827248128.0000 - val_loss: 2179940864.0000\n",
            "Epoch 76/100\n",
            "20/20 - 0s - 7ms/step - loss: 1799693696.0000 - val_loss: 2147960320.0000\n",
            "Epoch 77/100\n",
            "20/20 - 0s - 7ms/step - loss: 1772308096.0000 - val_loss: 2116466944.0000\n",
            "Epoch 78/100\n",
            "20/20 - 0s - 6ms/step - loss: 1744702464.0000 - val_loss: 2088104704.0000\n",
            "Epoch 79/100\n",
            "20/20 - 0s - 7ms/step - loss: 1718329728.0000 - val_loss: 2060193408.0000\n",
            "Epoch 80/100\n",
            "20/20 - 0s - 7ms/step - loss: 1692030208.0000 - val_loss: 2029898496.0000\n",
            "Epoch 81/100\n",
            "20/20 - 0s - 15ms/step - loss: 1667722496.0000 - val_loss: 2001360512.0000\n",
            "Epoch 82/100\n",
            "20/20 - 0s - 7ms/step - loss: 1639151488.0000 - val_loss: 1971112320.0000\n",
            "Epoch 83/100\n",
            "20/20 - 0s - 8ms/step - loss: 1612184320.0000 - val_loss: 1941150720.0000\n",
            "Epoch 84/100\n",
            "20/20 - 0s - 14ms/step - loss: 1587355648.0000 - val_loss: 1913759488.0000\n",
            "Epoch 85/100\n",
            "20/20 - 0s - 5ms/step - loss: 1562259712.0000 - val_loss: 1884347776.0000\n",
            "Epoch 86/100\n",
            "20/20 - 0s - 7ms/step - loss: 1536658688.0000 - val_loss: 1857172096.0000\n",
            "Epoch 87/100\n",
            "20/20 - 0s - 7ms/step - loss: 1511259264.0000 - val_loss: 1828537088.0000\n",
            "Epoch 88/100\n",
            "20/20 - 0s - 7ms/step - loss: 1486489856.0000 - val_loss: 1799980032.0000\n",
            "Epoch 89/100\n",
            "20/20 - 0s - 8ms/step - loss: 1463367296.0000 - val_loss: 1770962688.0000\n",
            "Epoch 90/100\n",
            "20/20 - 0s - 7ms/step - loss: 1437995136.0000 - val_loss: 1746865792.0000\n",
            "Epoch 91/100\n",
            "20/20 - 0s - 6ms/step - loss: 1414609664.0000 - val_loss: 1718022912.0000\n",
            "Epoch 92/100\n",
            "20/20 - 0s - 8ms/step - loss: 1392345472.0000 - val_loss: 1690217216.0000\n",
            "Epoch 93/100\n",
            "20/20 - 0s - 6ms/step - loss: 1363973376.0000 - val_loss: 1662943488.0000\n",
            "Epoch 94/100\n",
            "20/20 - 0s - 7ms/step - loss: 1341016960.0000 - val_loss: 1638003328.0000\n",
            "Epoch 95/100\n",
            "20/20 - 0s - 7ms/step - loss: 1318838528.0000 - val_loss: 1611131648.0000\n",
            "Epoch 96/100\n",
            "20/20 - 0s - 4ms/step - loss: 1295493120.0000 - val_loss: 1583547520.0000\n",
            "Epoch 97/100\n",
            "20/20 - 0s - 4ms/step - loss: 1272404992.0000 - val_loss: 1558252800.0000\n",
            "Epoch 98/100\n",
            "20/20 - 0s - 7ms/step - loss: 1248785152.0000 - val_loss: 1534062464.0000\n",
            "Epoch 99/100\n",
            "20/20 - 0s - 7ms/step - loss: 1225602304.0000 - val_loss: 1507671808.0000\n",
            "Epoch 100/100\n",
            "20/20 - 0s - 5ms/step - loss: 1203842944.0000 - val_loss: 1482700928.0000\n"
          ]
        }
      ]
    },
    {
      "cell_type": "markdown",
      "source": [
        "**6. Evaluate the Model**\n",
        "\n",
        "Evaluate the model’s performance using the test data and visualize the training process."
      ],
      "metadata": {
        "id": "p9BDnsYzzxRI"
      }
    },
    {
      "cell_type": "code",
      "source": [
        "# Evaluate the model on the test data\n",
        "test_loss = model.evaluate(X_test_scaled, y_test, verbose=0)\n",
        "print(f'Test Loss (MSE): {test_loss:.2f}')\n",
        "\n",
        "# Plot the training and validation loss\n",
        "import matplotlib.pyplot as plt\n",
        "\n",
        "plt.plot(history.history['loss'], label='Training Loss')\n",
        "plt.plot(history.history['val_loss'], label='Validation Loss')\n",
        "plt.xlabel('Epoch')\n",
        "plt.ylabel('Loss (MSE)')\n",
        "plt.legend()\n",
        "plt.show()\n"
      ],
      "metadata": {
        "colab": {
          "base_uri": "https://localhost:8080/",
          "height": 483
        },
        "id": "rDi4DzBFBW9n",
        "outputId": "e5ae14cb-b38b-4be9-91dd-7ee0bb6a18ca"
      },
      "execution_count": 19,
      "outputs": [
        {
          "output_type": "stream",
          "name": "stdout",
          "text": [
            "Test Loss (MSE): 1348726272.00\n"
          ]
        },
        {
          "output_type": "display_data",
          "data": {
            "text/plain": [
              "<Figure size 640x480 with 1 Axes>"
            ],
            "image/png": "[encoded data removed]"
          },
          "metadata": {}
        }
      ]
    },
    {
      "cell_type": "markdown",
      "source": [
        "#**House Purchase Classification**\n",
        "**1. Import Required Libraries**\n"
      ],
      "metadata": {
        "id": "ssD-7-q43z58"
      }
    },
    {
      "cell_type": "code",
      "source": [
        "import numpy as np\n",
        "import pandas as pd\n",
        "from sklearn.model_selection import train_test_split\n",
        "from sklearn.preprocessing import StandardScaler\n",
        "from tensorflow.keras.models import Sequential\n",
        "from tensorflow.keras.layers import Dense\n",
        "from tensorflow.keras.optimizers import Adam\n",
        "from sklearn.metrics import classification_report, confusion_matrix\n",
        "import matplotlib.pyplot as plt\n"
      ],
      "metadata": {
        "id": "AX6LOTsT38s9"
      },
      "execution_count": 2,
      "outputs": []
    },
    {
      "cell_type": "markdown",
      "source": [
        "**2. Create a Synthetic Dataset**\n",
        "\n",
        "For demonstration purposes, we'll create a synthetic dataset with features like income, age, credit score, and number of dependents to predict whether a person will buy a house (0 for No, 1 for Yes)."
      ],
      "metadata": {
        "id": "YAwuf2k64DPE"
      }
    },
    {
      "cell_type": "code",
      "source": [
        "# Set the random seed for reproducibility\n",
        "np.random.seed(42)\n",
        "\n",
        "# Generate synthetic data for the classification problem\n",
        "num_samples = 1000\n",
        "income = np.random.randint(20000, 150000, num_samples)\n",
        "age = np.random.randint(18, 70, num_samples)\n",
        "credit_score = np.random.randint(300, 850, num_samples)\n",
        "num_dependents = np.random.randint(0, 5, num_samples)\n",
        "\n",
        "# Simulate target variable (buying a house: 0 - No, 1 - Yes) with some randomness\n",
        "buy_house = ((income > 60000) & (age > 30) & (credit_score > 600) & (num_dependents <= 2)).astype(int)\n",
        "\n",
        "# Create a DataFrame\n",
        "data = pd.DataFrame({\n",
        "    'Income': income,\n",
        "    'Age': age,\n",
        "    'CreditScore': credit_score,\n",
        "    'NumDependents': num_dependents,\n",
        "    'BuyHouse': buy_house\n",
        "})\n",
        "\n",
        "# Display first few rows of the dataset\n",
        "print(data.head())\n"
      ],
      "metadata": {
        "colab": {
          "base_uri": "https://localhost:8080/"
        },
        "id": "0o0NM3sk4G3Z",
        "outputId": "a20b84f2-3ae3-46fb-9806-c882eb74cf26"
      },
      "execution_count": 3,
      "outputs": [
        {
          "output_type": "stream",
          "name": "stdout",
          "text": [
            "   Income  Age  CreditScore  NumDependents  BuyHouse\n",
            "0  141958   50          622              3         0\n",
            "1   35795   37          840              4         0\n",
            "2   20860   30          494              3         0\n",
            "3  123694   45          631              3         0\n",
            "4  148106   65          469              2         0\n"
          ]
        }
      ]
    },
    {
      "cell_type": "markdown",
      "source": [
        "**3. Preprocess the Data**\n",
        "\n",
        "Split the data into training and test sets and scale the features."
      ],
      "metadata": {
        "id": "HPepZEGz4PkA"
      }
    },
    {
      "cell_type": "code",
      "source": [
        "# Split the data into features (X) and target (y)\n",
        "X = data[['Income', 'Age', 'CreditScore', 'NumDependents']]\n",
        "y = data['BuyHouse']\n",
        "\n",
        "# Split the dataset into training and testing sets\n",
        "X_train, X_test, y_train, y_test = train_test_split(X, y, test_size=0.2, random_state=42)\n",
        "\n",
        "# Standardize the features\n",
        "scaler = StandardScaler()\n",
        "X_train_scaled = scaler.fit_transform(X_train)\n",
        "X_test_scaled = scaler.transform(X_test)\n"
      ],
      "metadata": {
        "id": "swFxJVUs4SZi"
      },
      "execution_count": 4,
      "outputs": []
    },
    {
      "cell_type": "markdown",
      "source": [
        "**4. Build the Neural Network Model**\n",
        "\n",
        "We’ll build a neural network with an input layer, hidden layers, and an output layer using the sigmoid activation function for binary classification."
      ],
      "metadata": {
        "id": "LTILEEwP4VlN"
      }
    },
    {
      "cell_type": "code",
      "source": [
        "# Initialize the neural network model\n",
        "model = Sequential()\n",
        "\n",
        "# Input layer and the first hidden layer with 32 neurons and ReLU activation\n",
        "model.add(Dense(32, input_dim=X_train_scaled.shape[1], activation='relu'))\n",
        "\n",
        "# Second hidden layer with 16 neurons and ReLU activation\n",
        "model.add(Dense(16, activation='relu'))\n",
        "\n",
        "# Output layer with 1 neuron and sigmoid activation for binary classification\n",
        "model.add(Dense(1, activation='sigmoid'))\n",
        "\n",
        "# Compile the model with Binary Crossentropy loss and Adam optimizer\n",
        "model.compile(optimizer=Adam(learning_rate=0.01), loss='binary_crossentropy', metrics=['accuracy'])\n",
        "\n",
        "# Display the model summary\n",
        "model.summary()\n"
      ],
      "metadata": {
        "colab": {
          "base_uri": "https://localhost:8080/",
          "height": 287
        },
        "id": "_8Giuxg04Y8W",
        "outputId": "db51d336-9702-4e81-d9e8-dbb9b03e275e"
      },
      "execution_count": 5,
      "outputs": [
        {
          "output_type": "stream",
          "name": "stderr",
          "text": [
            "/usr/local/lib/python3.10/dist-packages/keras/src/layers/core/dense.py:87: UserWarning: Do not pass an `input_shape`/`input_dim` argument to a layer. When using Sequential models, prefer using an `Input(shape)` object as the first layer in the model instead.\n",
            "  super().__init__(activity_regularizer=activity_regularizer, **kwargs)\n"
          ]
        },
        {
          "output_type": "display_data",
          "data": {
            "text/plain": [
              "\u001b[1mModel: \"sequential\"\u001b[0m\n"
            ],
            "text/html": [
              "<pre style=\"white-space:pre;overflow-x:auto;line-height:normal;font-family:Menlo,'DejaVu Sans Mono',consolas,'Courier New',monospace\"><span style=\"font-weight: bold\">Model: \"sequential\"</span>\n",
              "</pre>\n"
            ]
          },
          "metadata": {}
        },
        {
          "output_type": "display_data",
          "data": {
            "text/plain": [
              "┏━━━━━━━━━━━━━━━━━━━━━━━━━━━━━━━━━━━━━━┳━━━━━━━━━━━━━━━━━━━━━━━━━━━━━┳━━━━━━━━━━━━━━━━━┓\n",
              "┃\u001b[1m \u001b[0m\u001b[1mLayer (type)                        \u001b[0m\u001b[1m \u001b[0m┃\u001b[1m \u001b[0m\u001b[1mOutput Shape               \u001b[0m\u001b[1m \u001b[0m┃\u001b[1m \u001b[0m\u001b[1m        Param #\u001b[0m\u001b[1m \u001b[0m┃\n",
              "┡━━━━━━━━━━━━━━━━━━━━━━━━━━━━━━━━━━━━━━╇━━━━━━━━━━━━━━━━━━━━━━━━━━━━━╇━━━━━━━━━━━━━━━━━┩\n",
              "│ dense (\u001b[38;5;33mDense\u001b[0m)                        │ (\u001b[38;5;45mNone\u001b[0m, \u001b[38;5;34m32\u001b[0m)                  │             \u001b[38;5;34m160\u001b[0m │\n",
              "├──────────────────────────────────────┼─────────────────────────────┼─────────────────┤\n",
              "│ dense_1 (\u001b[38;5;33mDense\u001b[0m)                      │ (\u001b[38;5;45mNone\u001b[0m, \u001b[38;5;34m16\u001b[0m)                  │             \u001b[38;5;34m528\u001b[0m │\n",
              "├──────────────────────────────────────┼─────────────────────────────┼─────────────────┤\n",
              "│ dense_2 (\u001b[38;5;33mDense\u001b[0m)                      │ (\u001b[38;5;45mNone\u001b[0m, \u001b[38;5;34m1\u001b[0m)                   │              \u001b[38;5;34m17\u001b[0m │\n",
              "└──────────────────────────────────────┴─────────────────────────────┴─────────────────┘\n"
            ],
            "text/html": [
              "<pre style=\"white-space:pre;overflow-x:auto;line-height:normal;font-family:Menlo,'DejaVu Sans Mono',consolas,'Courier New',monospace\">┏━━━━━━━━━━━━━━━━━━━━━━━━━━━━━━━━━━━━━━┳━━━━━━━━━━━━━━━━━━━━━━━━━━━━━┳━━━━━━━━━━━━━━━━━┓\n",
              "┃<span style=\"font-weight: bold\"> Layer (type)                         </span>┃<span style=\"font-weight: bold\"> Output Shape                </span>┃<span style=\"font-weight: bold\">         Param # </span>┃\n",
              "┡━━━━━━━━━━━━━━━━━━━━━━━━━━━━━━━━━━━━━━╇━━━━━━━━━━━━━━━━━━━━━━━━━━━━━╇━━━━━━━━━━━━━━━━━┩\n",
              "│ dense (<span style=\"color: #0087ff; text-decoration-color: #0087ff\">Dense</span>)                        │ (<span style=\"color: #00d7ff; text-decoration-color: #00d7ff\">None</span>, <span style=\"color: #00af00; text-decoration-color: #00af00\">32</span>)                  │             <span style=\"color: #00af00; text-decoration-color: #00af00\">160</span> │\n",
              "├──────────────────────────────────────┼─────────────────────────────┼─────────────────┤\n",
              "│ dense_1 (<span style=\"color: #0087ff; text-decoration-color: #0087ff\">Dense</span>)                      │ (<span style=\"color: #00d7ff; text-decoration-color: #00d7ff\">None</span>, <span style=\"color: #00af00; text-decoration-color: #00af00\">16</span>)                  │             <span style=\"color: #00af00; text-decoration-color: #00af00\">528</span> │\n",
              "├──────────────────────────────────────┼─────────────────────────────┼─────────────────┤\n",
              "│ dense_2 (<span style=\"color: #0087ff; text-decoration-color: #0087ff\">Dense</span>)                      │ (<span style=\"color: #00d7ff; text-decoration-color: #00d7ff\">None</span>, <span style=\"color: #00af00; text-decoration-color: #00af00\">1</span>)                   │              <span style=\"color: #00af00; text-decoration-color: #00af00\">17</span> │\n",
              "└──────────────────────────────────────┴─────────────────────────────┴─────────────────┘\n",
              "</pre>\n"
            ]
          },
          "metadata": {}
        },
        {
          "output_type": "display_data",
          "data": {
            "text/plain": [
              "\u001b[1m Total params: \u001b[0m\u001b[38;5;34m705\u001b[0m (2.75 KB)\n"
            ],
            "text/html": [
              "<pre style=\"white-space:pre;overflow-x:auto;line-height:normal;font-family:Menlo,'DejaVu Sans Mono',consolas,'Courier New',monospace\"><span style=\"font-weight: bold\"> Total params: </span><span style=\"color: #00af00; text-decoration-color: #00af00\">705</span> (2.75 KB)\n",
              "</pre>\n"
            ]
          },
          "metadata": {}
        },
        {
          "output_type": "display_data",
          "data": {
            "text/plain": [
              "\u001b[1m Trainable params: \u001b[0m\u001b[38;5;34m705\u001b[0m (2.75 KB)\n"
            ],
            "text/html": [
              "<pre style=\"white-space:pre;overflow-x:auto;line-height:normal;font-family:Menlo,'DejaVu Sans Mono',consolas,'Courier New',monospace\"><span style=\"font-weight: bold\"> Trainable params: </span><span style=\"color: #00af00; text-decoration-color: #00af00\">705</span> (2.75 KB)\n",
              "</pre>\n"
            ]
          },
          "metadata": {}
        },
        {
          "output_type": "display_data",
          "data": {
            "text/plain": [
              "\u001b[1m Non-trainable params: \u001b[0m\u001b[38;5;34m0\u001b[0m (0.00 B)\n"
            ],
            "text/html": [
              "<pre style=\"white-space:pre;overflow-x:auto;line-height:normal;font-family:Menlo,'DejaVu Sans Mono',consolas,'Courier New',monospace\"><span style=\"font-weight: bold\"> Non-trainable params: </span><span style=\"color: #00af00; text-decoration-color: #00af00\">0</span> (0.00 B)\n",
              "</pre>\n"
            ]
          },
          "metadata": {}
        }
      ]
    },
    {
      "cell_type": "markdown",
      "source": [
        "**5. Train the Model**\n",
        "\n",
        "Train the model using the training data."
      ],
      "metadata": {
        "id": "iEoB0dOe4eYk"
      }
    },
    {
      "cell_type": "code",
      "source": [
        "# Train the model on the training data\n",
        "history = model.fit(X_train_scaled, y_train, validation_split=0.2, epochs=100, batch_size=32, verbose=2)"
      ],
      "metadata": {
        "colab": {
          "base_uri": "https://localhost:8080/"
        },
        "collapsed": true,
        "id": "7_Xd0eWY4gMO",
        "outputId": "8e619e73-42fc-4383-8b97-c64a626f83f2"
      },
      "execution_count": 6,
      "outputs": [
        {
          "output_type": "stream",
          "name": "stdout",
          "text": [
            "Epoch 1/100\n",
            "20/20 - 1s - 68ms/step - accuracy: 0.8813 - loss: 0.2891 - val_accuracy: 0.9250 - val_loss: 0.1624\n",
            "Epoch 2/100\n",
            "20/20 - 0s - 3ms/step - accuracy: 0.9516 - loss: 0.1369 - val_accuracy: 0.9438 - val_loss: 0.1327\n",
            "Epoch 3/100\n",
            "20/20 - 0s - 4ms/step - accuracy: 0.9578 - loss: 0.1033 - val_accuracy: 0.9500 - val_loss: 0.1078\n",
            "Epoch 4/100\n",
            "20/20 - 0s - 7ms/step - accuracy: 0.9656 - loss: 0.0802 - val_accuracy: 0.9500 - val_loss: 0.1016\n",
            "Epoch 5/100\n",
            "20/20 - 0s - 3ms/step - accuracy: 0.9750 - loss: 0.0668 - val_accuracy: 0.9500 - val_loss: 0.0905\n",
            "Epoch 6/100\n",
            "20/20 - 0s - 4ms/step - accuracy: 0.9812 - loss: 0.0583 - val_accuracy: 0.9750 - val_loss: 0.0630\n",
            "Epoch 7/100\n",
            "20/20 - 0s - 4ms/step - accuracy: 0.9828 - loss: 0.0502 - val_accuracy: 0.9812 - val_loss: 0.0540\n",
            "Epoch 8/100\n",
            "20/20 - 0s - 3ms/step - accuracy: 0.9812 - loss: 0.0401 - val_accuracy: 0.9937 - val_loss: 0.0574\n",
            "Epoch 9/100\n",
            "20/20 - 0s - 8ms/step - accuracy: 0.9859 - loss: 0.0339 - val_accuracy: 0.9937 - val_loss: 0.0571\n",
            "Epoch 10/100\n",
            "20/20 - 0s - 3ms/step - accuracy: 0.9891 - loss: 0.0300 - val_accuracy: 0.9625 - val_loss: 0.0736\n",
            "Epoch 11/100\n",
            "20/20 - 0s - 7ms/step - accuracy: 0.9812 - loss: 0.0443 - val_accuracy: 0.9875 - val_loss: 0.0449\n",
            "Epoch 12/100\n",
            "20/20 - 0s - 9ms/step - accuracy: 0.9859 - loss: 0.0293 - val_accuracy: 0.9937 - val_loss: 0.0509\n",
            "Epoch 13/100\n",
            "20/20 - 0s - 5ms/step - accuracy: 0.9922 - loss: 0.0234 - val_accuracy: 0.9812 - val_loss: 0.0567\n",
            "Epoch 14/100\n",
            "20/20 - 0s - 3ms/step - accuracy: 0.9906 - loss: 0.0204 - val_accuracy: 0.9875 - val_loss: 0.0700\n",
            "Epoch 15/100\n",
            "20/20 - 0s - 4ms/step - accuracy: 0.9984 - loss: 0.0144 - val_accuracy: 0.9875 - val_loss: 0.0649\n",
            "Epoch 16/100\n",
            "20/20 - 0s - 7ms/step - accuracy: 0.9875 - loss: 0.0262 - val_accuracy: 0.9875 - val_loss: 0.0624\n",
            "Epoch 17/100\n",
            "20/20 - 0s - 7ms/step - accuracy: 0.9922 - loss: 0.0217 - val_accuracy: 0.9812 - val_loss: 0.0655\n",
            "Epoch 18/100\n",
            "20/20 - 0s - 7ms/step - accuracy: 0.9984 - loss: 0.0140 - val_accuracy: 0.9875 - val_loss: 0.0659\n",
            "Epoch 19/100\n",
            "20/20 - 0s - 7ms/step - accuracy: 0.9937 - loss: 0.0141 - val_accuracy: 0.9875 - val_loss: 0.0638\n",
            "Epoch 20/100\n",
            "20/20 - 0s - 7ms/step - accuracy: 0.9953 - loss: 0.0147 - val_accuracy: 0.9937 - val_loss: 0.0551\n",
            "Epoch 21/100\n",
            "20/20 - 0s - 6ms/step - accuracy: 0.9969 - loss: 0.0129 - val_accuracy: 0.9937 - val_loss: 0.0623\n",
            "Epoch 22/100\n",
            "20/20 - 0s - 3ms/step - accuracy: 0.9953 - loss: 0.0136 - val_accuracy: 0.9875 - val_loss: 0.0712\n",
            "Epoch 23/100\n",
            "20/20 - 0s - 4ms/step - accuracy: 0.9953 - loss: 0.0139 - val_accuracy: 0.9875 - val_loss: 0.0793\n",
            "Epoch 24/100\n",
            "20/20 - 0s - 7ms/step - accuracy: 0.9969 - loss: 0.0150 - val_accuracy: 0.9875 - val_loss: 0.0608\n",
            "Epoch 25/100\n",
            "20/20 - 0s - 6ms/step - accuracy: 0.9953 - loss: 0.0106 - val_accuracy: 0.9875 - val_loss: 0.0731\n",
            "Epoch 26/100\n",
            "20/20 - 0s - 7ms/step - accuracy: 0.9969 - loss: 0.0110 - val_accuracy: 0.9875 - val_loss: 0.0679\n",
            "Epoch 27/100\n",
            "20/20 - 0s - 7ms/step - accuracy: 0.9984 - loss: 0.0061 - val_accuracy: 0.9875 - val_loss: 0.0648\n",
            "Epoch 28/100\n",
            "20/20 - 0s - 7ms/step - accuracy: 0.9984 - loss: 0.0099 - val_accuracy: 0.9937 - val_loss: 0.0587\n",
            "Epoch 29/100\n",
            "20/20 - 0s - 7ms/step - accuracy: 0.9984 - loss: 0.0079 - val_accuracy: 0.9875 - val_loss: 0.0685\n",
            "Epoch 30/100\n",
            "20/20 - 0s - 6ms/step - accuracy: 0.9984 - loss: 0.0069 - val_accuracy: 0.9875 - val_loss: 0.0641\n",
            "Epoch 31/100\n",
            "20/20 - 0s - 4ms/step - accuracy: 1.0000 - loss: 0.0072 - val_accuracy: 0.9937 - val_loss: 0.0706\n",
            "Epoch 32/100\n",
            "20/20 - 0s - 6ms/step - accuracy: 0.9969 - loss: 0.0105 - val_accuracy: 0.9875 - val_loss: 0.0893\n",
            "Epoch 33/100\n",
            "20/20 - 0s - 7ms/step - accuracy: 0.9937 - loss: 0.0171 - val_accuracy: 0.9875 - val_loss: 0.0619\n",
            "Epoch 34/100\n",
            "20/20 - 0s - 7ms/step - accuracy: 0.9922 - loss: 0.0180 - val_accuracy: 0.9688 - val_loss: 0.0850\n",
            "Epoch 35/100\n",
            "20/20 - 0s - 7ms/step - accuracy: 0.9969 - loss: 0.0118 - val_accuracy: 0.9875 - val_loss: 0.0823\n",
            "Epoch 36/100\n",
            "20/20 - 0s - 7ms/step - accuracy: 0.9953 - loss: 0.0104 - val_accuracy: 0.9937 - val_loss: 0.0875\n",
            "Epoch 37/100\n",
            "20/20 - 0s - 7ms/step - accuracy: 0.9969 - loss: 0.0062 - val_accuracy: 0.9875 - val_loss: 0.0881\n",
            "Epoch 38/100\n",
            "20/20 - 0s - 4ms/step - accuracy: 1.0000 - loss: 0.0043 - val_accuracy: 0.9875 - val_loss: 0.0978\n",
            "Epoch 39/100\n",
            "20/20 - 0s - 8ms/step - accuracy: 1.0000 - loss: 0.0037 - val_accuracy: 0.9875 - val_loss: 0.0747\n",
            "Epoch 40/100\n",
            "20/20 - 0s - 6ms/step - accuracy: 0.9969 - loss: 0.0075 - val_accuracy: 0.9937 - val_loss: 0.0710\n",
            "Epoch 41/100\n",
            "20/20 - 0s - 7ms/step - accuracy: 1.0000 - loss: 0.0046 - val_accuracy: 0.9875 - val_loss: 0.1011\n",
            "Epoch 42/100\n",
            "20/20 - 0s - 7ms/step - accuracy: 0.9984 - loss: 0.0074 - val_accuracy: 0.9875 - val_loss: 0.1175\n",
            "Epoch 43/100\n",
            "20/20 - 0s - 8ms/step - accuracy: 0.9969 - loss: 0.0133 - val_accuracy: 0.9812 - val_loss: 0.0891\n",
            "Epoch 44/100\n",
            "20/20 - 0s - 6ms/step - accuracy: 0.9953 - loss: 0.0092 - val_accuracy: 0.9875 - val_loss: 0.1114\n",
            "Epoch 45/100\n",
            "20/20 - 0s - 7ms/step - accuracy: 0.9953 - loss: 0.0107 - val_accuracy: 0.9875 - val_loss: 0.0897\n",
            "Epoch 46/100\n",
            "20/20 - 0s - 4ms/step - accuracy: 1.0000 - loss: 0.0029 - val_accuracy: 0.9875 - val_loss: 0.0812\n",
            "Epoch 47/100\n",
            "20/20 - 0s - 6ms/step - accuracy: 1.0000 - loss: 0.0021 - val_accuracy: 0.9937 - val_loss: 0.0872\n",
            "Epoch 48/100\n",
            "20/20 - 0s - 8ms/step - accuracy: 1.0000 - loss: 0.0024 - val_accuracy: 0.9875 - val_loss: 0.0989\n",
            "Epoch 49/100\n",
            "20/20 - 0s - 6ms/step - accuracy: 1.0000 - loss: 0.0032 - val_accuracy: 0.9875 - val_loss: 0.0811\n",
            "Epoch 50/100\n",
            "20/20 - 0s - 9ms/step - accuracy: 1.0000 - loss: 0.0023 - val_accuracy: 0.9937 - val_loss: 0.0879\n",
            "Epoch 51/100\n",
            "20/20 - 0s - 6ms/step - accuracy: 0.9984 - loss: 0.0026 - val_accuracy: 0.9875 - val_loss: 0.0930\n",
            "Epoch 52/100\n",
            "20/20 - 0s - 7ms/step - accuracy: 0.9984 - loss: 0.0064 - val_accuracy: 0.9875 - val_loss: 0.0887\n",
            "Epoch 53/100\n",
            "20/20 - 0s - 5ms/step - accuracy: 0.9969 - loss: 0.0126 - val_accuracy: 0.9750 - val_loss: 0.0985\n",
            "Epoch 54/100\n",
            "20/20 - 0s - 8ms/step - accuracy: 0.9937 - loss: 0.0165 - val_accuracy: 0.9750 - val_loss: 0.1220\n",
            "Epoch 55/100\n",
            "20/20 - 0s - 6ms/step - accuracy: 0.9891 - loss: 0.0386 - val_accuracy: 0.9750 - val_loss: 0.1126\n",
            "Epoch 56/100\n",
            "20/20 - 0s - 8ms/step - accuracy: 0.9891 - loss: 0.0226 - val_accuracy: 0.9875 - val_loss: 0.0960\n",
            "Epoch 57/100\n",
            "20/20 - 0s - 5ms/step - accuracy: 0.9984 - loss: 0.0125 - val_accuracy: 0.9812 - val_loss: 0.1027\n",
            "Epoch 58/100\n",
            "20/20 - 0s - 7ms/step - accuracy: 1.0000 - loss: 0.0049 - val_accuracy: 0.9937 - val_loss: 0.0677\n",
            "Epoch 59/100\n",
            "20/20 - 0s - 7ms/step - accuracy: 0.9984 - loss: 0.0053 - val_accuracy: 0.9875 - val_loss: 0.0966\n",
            "Epoch 60/100\n",
            "20/20 - 0s - 7ms/step - accuracy: 0.9984 - loss: 0.0040 - val_accuracy: 0.9812 - val_loss: 0.0849\n",
            "Epoch 61/100\n",
            "20/20 - 0s - 6ms/step - accuracy: 0.9969 - loss: 0.0061 - val_accuracy: 0.9812 - val_loss: 0.0947\n",
            "Epoch 62/100\n",
            "20/20 - 0s - 6ms/step - accuracy: 0.9984 - loss: 0.0044 - val_accuracy: 0.9875 - val_loss: 0.1228\n",
            "Epoch 63/100\n",
            "20/20 - 0s - 7ms/step - accuracy: 1.0000 - loss: 0.0033 - val_accuracy: 0.9812 - val_loss: 0.0903\n",
            "Epoch 64/100\n",
            "20/20 - 0s - 7ms/step - accuracy: 0.9969 - loss: 0.0047 - val_accuracy: 0.9875 - val_loss: 0.1091\n",
            "Epoch 65/100\n",
            "20/20 - 0s - 6ms/step - accuracy: 1.0000 - loss: 0.0013 - val_accuracy: 0.9812 - val_loss: 0.0952\n",
            "Epoch 66/100\n",
            "20/20 - 0s - 7ms/step - accuracy: 1.0000 - loss: 0.0011 - val_accuracy: 0.9875 - val_loss: 0.1013\n",
            "Epoch 67/100\n",
            "20/20 - 0s - 7ms/step - accuracy: 1.0000 - loss: 0.0011 - val_accuracy: 0.9875 - val_loss: 0.1007\n",
            "Epoch 68/100\n",
            "20/20 - 0s - 7ms/step - accuracy: 1.0000 - loss: 0.0014 - val_accuracy: 0.9875 - val_loss: 0.1079\n",
            "Epoch 69/100\n",
            "20/20 - 0s - 7ms/step - accuracy: 1.0000 - loss: 0.0013 - val_accuracy: 0.9875 - val_loss: 0.0976\n",
            "Epoch 70/100\n",
            "20/20 - 0s - 6ms/step - accuracy: 1.0000 - loss: 0.0014 - val_accuracy: 0.9875 - val_loss: 0.1131\n",
            "Epoch 71/100\n",
            "20/20 - 0s - 5ms/step - accuracy: 0.9984 - loss: 0.0020 - val_accuracy: 0.9875 - val_loss: 0.0959\n",
            "Epoch 72/100\n",
            "20/20 - 0s - 7ms/step - accuracy: 1.0000 - loss: 0.0012 - val_accuracy: 0.9875 - val_loss: 0.1107\n",
            "Epoch 73/100\n",
            "20/20 - 0s - 7ms/step - accuracy: 1.0000 - loss: 8.8610e-04 - val_accuracy: 0.9875 - val_loss: 0.1041\n",
            "Epoch 74/100\n",
            "20/20 - 0s - 7ms/step - accuracy: 1.0000 - loss: 0.0011 - val_accuracy: 0.9875 - val_loss: 0.1186\n",
            "Epoch 75/100\n",
            "20/20 - 0s - 4ms/step - accuracy: 1.0000 - loss: 0.0027 - val_accuracy: 0.9875 - val_loss: 0.1048\n",
            "Epoch 76/100\n",
            "20/20 - 0s - 6ms/step - accuracy: 0.9969 - loss: 0.0057 - val_accuracy: 0.9750 - val_loss: 0.1134\n",
            "Epoch 77/100\n",
            "20/20 - 0s - 4ms/step - accuracy: 0.9953 - loss: 0.0053 - val_accuracy: 0.9875 - val_loss: 0.1090\n",
            "Epoch 78/100\n",
            "20/20 - 0s - 7ms/step - accuracy: 0.9953 - loss: 0.0103 - val_accuracy: 0.9812 - val_loss: 0.0947\n",
            "Epoch 79/100\n",
            "20/20 - 0s - 4ms/step - accuracy: 0.9953 - loss: 0.0112 - val_accuracy: 0.9750 - val_loss: 0.0990\n",
            "Epoch 80/100\n",
            "20/20 - 0s - 4ms/step - accuracy: 0.9937 - loss: 0.0187 - val_accuracy: 0.9875 - val_loss: 0.1031\n",
            "Epoch 81/100\n",
            "20/20 - 0s - 6ms/step - accuracy: 0.9984 - loss: 0.0037 - val_accuracy: 0.9875 - val_loss: 0.0997\n",
            "Epoch 82/100\n",
            "20/20 - 0s - 7ms/step - accuracy: 0.9984 - loss: 0.0046 - val_accuracy: 0.9875 - val_loss: 0.1033\n",
            "Epoch 83/100\n",
            "20/20 - 0s - 8ms/step - accuracy: 1.0000 - loss: 0.0017 - val_accuracy: 0.9875 - val_loss: 0.0988\n",
            "Epoch 84/100\n",
            "20/20 - 0s - 6ms/step - accuracy: 1.0000 - loss: 0.0016 - val_accuracy: 0.9875 - val_loss: 0.1011\n",
            "Epoch 85/100\n",
            "20/20 - 0s - 8ms/step - accuracy: 1.0000 - loss: 8.6692e-04 - val_accuracy: 0.9875 - val_loss: 0.1031\n",
            "Epoch 86/100\n",
            "20/20 - 0s - 6ms/step - accuracy: 1.0000 - loss: 7.8157e-04 - val_accuracy: 0.9875 - val_loss: 0.1047\n",
            "Epoch 87/100\n",
            "20/20 - 0s - 8ms/step - accuracy: 1.0000 - loss: 7.5553e-04 - val_accuracy: 0.9875 - val_loss: 0.1114\n",
            "Epoch 88/100\n",
            "20/20 - 0s - 6ms/step - accuracy: 1.0000 - loss: 6.6468e-04 - val_accuracy: 0.9875 - val_loss: 0.1094\n",
            "Epoch 89/100\n",
            "20/20 - 0s - 6ms/step - accuracy: 1.0000 - loss: 5.8291e-04 - val_accuracy: 0.9875 - val_loss: 0.1092\n",
            "Epoch 90/100\n",
            "20/20 - 0s - 7ms/step - accuracy: 1.0000 - loss: 5.5683e-04 - val_accuracy: 0.9875 - val_loss: 0.1128\n",
            "Epoch 91/100\n",
            "20/20 - 0s - 7ms/step - accuracy: 1.0000 - loss: 5.2967e-04 - val_accuracy: 0.9875 - val_loss: 0.1141\n",
            "Epoch 92/100\n",
            "20/20 - 0s - 8ms/step - accuracy: 1.0000 - loss: 5.4905e-04 - val_accuracy: 0.9875 - val_loss: 0.1109\n",
            "Epoch 93/100\n",
            "20/20 - 0s - 7ms/step - accuracy: 1.0000 - loss: 4.8921e-04 - val_accuracy: 0.9875 - val_loss: 0.1141\n",
            "Epoch 94/100\n",
            "20/20 - 0s - 7ms/step - accuracy: 1.0000 - loss: 4.7975e-04 - val_accuracy: 0.9875 - val_loss: 0.1160\n",
            "Epoch 95/100\n",
            "20/20 - 0s - 6ms/step - accuracy: 1.0000 - loss: 5.2408e-04 - val_accuracy: 0.9875 - val_loss: 0.1181\n",
            "Epoch 96/100\n",
            "20/20 - 0s - 8ms/step - accuracy: 1.0000 - loss: 4.0725e-04 - val_accuracy: 0.9875 - val_loss: 0.1116\n",
            "Epoch 97/100\n",
            "20/20 - 0s - 6ms/step - accuracy: 1.0000 - loss: 4.7677e-04 - val_accuracy: 0.9875 - val_loss: 0.1205\n",
            "Epoch 98/100\n",
            "20/20 - 0s - 8ms/step - accuracy: 1.0000 - loss: 4.8106e-04 - val_accuracy: 0.9875 - val_loss: 0.1185\n",
            "Epoch 99/100\n",
            "20/20 - 0s - 7ms/step - accuracy: 1.0000 - loss: 5.9050e-04 - val_accuracy: 0.9875 - val_loss: 0.1225\n",
            "Epoch 100/100\n",
            "20/20 - 0s - 6ms/step - accuracy: 1.0000 - loss: 6.5192e-04 - val_accuracy: 0.9875 - val_loss: 0.1170\n"
          ]
        }
      ]
    },
    {
      "cell_type": "markdown",
      "source": [
        "**6. Evaluate the Model**\n",
        "\n",
        "Evaluate the model’s performance using the test data and visualize the training process."
      ],
      "metadata": {
        "id": "zUtzP4Q34pgz"
      }
    },
    {
      "cell_type": "code",
      "source": [
        "# Evaluate the model on the test data\n",
        "test_loss, test_accuracy = model.evaluate(X_test_scaled, y_test, verbose=0)\n",
        "print(f'Test Accuracy: {test_accuracy:.2f}')\n",
        "\n",
        "# Predict the classes for the test set\n",
        "y_pred = (model.predict(X_test_scaled) > 0.5).astype(\"int32\")\n",
        "\n",
        "# Print the classification report and confusion matrix\n",
        "print(\"Classification Report:\\n\", classification_report(y_test, y_pred))\n",
        "print(\"Confusion Matrix:\\n\", confusion_matrix(y_test, y_pred))\n",
        "\n",
        "# Plot the training and validation accuracy\n",
        "plt.plot(history.history['accuracy'], label='Training Accuracy')\n",
        "plt.plot(history.history['val_accuracy'], label='Validation Accuracy')\n",
        "plt.xlabel('Epoch')\n",
        "plt.ylabel('Accuracy')\n",
        "plt.legend()\n",
        "plt.show()\n",
        "\n",
        "# Plot the training and validation accuracy\n",
        "plt.plot(history.history['loss'], label='Training Loss')\n",
        "plt.plot(history.history['val_loss'], label='Validation Loss')\n",
        "plt.xlabel('Epoch')\n",
        "plt.ylabel('Accuracy')\n",
        "plt.legend()\n",
        "plt.show()\n"
      ],
      "metadata": {
        "colab": {
          "base_uri": "https://localhost:8080/",
          "height": 1000
        },
        "id": "PM6etvCz4t8d",
        "outputId": "917de54b-1181-4085-86e2-c3ead4fa2f1e"
      },
      "execution_count": 8,
      "outputs": [
        {
          "output_type": "stream",
          "name": "stdout",
          "text": [
            "Test Accuracy: 0.99\n",
            "\u001b[1m7/7\u001b[0m \u001b[32m━━━━━━━━━━━━━━━━━━━━\u001b[0m\u001b[37m\u001b[0m \u001b[1m0s\u001b[0m 2ms/step \n",
            "Classification Report:\n",
            "               precision    recall  f1-score   support\n",
            "\n",
            "           0       1.00      0.99      0.99       178\n",
            "           1       0.92      1.00      0.96        22\n",
            "\n",
            "    accuracy                           0.99       200\n",
            "   macro avg       0.96      0.99      0.98       200\n",
            "weighted avg       0.99      0.99      0.99       200\n",
            "\n",
            "Confusion Matrix:\n",
            " [[176   2]\n",
            " [  0  22]]\n"
          ]
        },
        {
          "output_type": "display_data",
          "data": {
            "text/plain": [
              "<Figure size 640x480 with 1 Axes>"
            ],
            "image/png": "[encoded data removed]"
          },
          "metadata": {}
        },
        {
          "output_type": "display_data",
          "data": {
            "text/plain": [
              "<Figure size 640x480 with 1 Axes>"
            ],
            "image/png": "[encoded data removed]"
          },
          "metadata": {}
        }
      ]
    },
    {
      "cell_type": "code",
      "source": [
        "import numpy as np\n",
        "from keras.models import Sequential\n",
        "from keras.layers import Dense, Activation\n",
        "\n",
        "def train_given_optimiser(optimiser):\n",
        "\tmodel = Sequential()\n",
        "\tmodel.add(Dense(1, input_dim=500))\n",
        "\tmodel.add(Activation(activation='sigmoid'))\n",
        "\tmodel.compile(optimizer=optimiser, loss='binary_crossentropy', metrics=['accuracy'])\n",
        "\tdata = np.random.random((1000, 500))\n",
        "\tlabels = np.random.randint(2, size=(1000, 1))\n",
        "\n",
        "\tscore = model.evaluate(data,labels, verbose=0)\n",
        "\tprint ('Optimiser: ', optimiser)\n",
        "\tmapped = zip(model.metrics_names, score)\n",
        "\tM = set(mapped)\n",
        "\tprint ('Before Training:', M)\n",
        "\n",
        "\tmodel.fit(data, labels, epochs=10, batch_size=32, verbose=0)\n",
        "\n",
        "\tscore = model.evaluate(data,labels, verbose=0)\n",
        "\tmapped = zip(model.metrics_names, score)\n",
        "\tM = set(mapped)\n",
        "\tprint ('After Training:', M)\n",
        "\n",
        "train_given_optimiser(\"sgd\")\n",
        "train_given_optimiser(\"rmsprop\")\n",
        "train_given_optimiser(\"adagrad\")\n",
        "train_given_optimiser(\"adadelta\")\n",
        "train_given_optimiser(\"adam\")\n",
        "train_given_optimiser(\"adamax\")\n",
        "train_given_optimiser(\"nadam\")"
      ],
      "metadata": {
        "colab": {
          "base_uri": "https://localhost:8080/"
        },
        "id": "WgUtUCoUHnSr",
        "outputId": "af9470cf-db86-4117-9bf8-415f68475ea8"
      },
      "execution_count": 9,
      "outputs": [
        {
          "output_type": "stream",
          "name": "stderr",
          "text": [
            "/usr/local/lib/python3.10/dist-packages/keras/src/layers/core/dense.py:87: UserWarning: Do not pass an `input_shape`/`input_dim` argument to a layer. When using Sequential models, prefer using an `Input(shape)` object as the first layer in the model instead.\n",
            "  super().__init__(activity_regularizer=activity_regularizer, **kwargs)\n"
          ]
        },
        {
          "output_type": "stream",
          "name": "stdout",
          "text": [
            "Optimiser:  sgd\n",
            "Before Training: {('compile_metrics', 0.49799999594688416), ('loss', 0.7361274361610413)}\n",
            "After Training: {('compile_metrics', 0.5339999794960022), ('loss', 0.7052053809165955)}\n",
            "Optimiser:  rmsprop\n",
            "Before Training: {('compile_metrics', 0.46299999952316284), ('loss', 0.7923793792724609)}\n",
            "After Training: {('compile_metrics', 0.6000000238418579), ('loss', 0.6662381887435913)}\n",
            "Optimiser:  adagrad\n",
            "Before Training: {('compile_metrics', 0.5130000114440918), ('loss', 0.7990525364875793)}\n",
            "After Training: {('compile_metrics', 0.503000020980835), ('loss', 0.7069961428642273)}\n",
            "Optimiser:  adadelta\n",
            "Before Training: {('compile_metrics', 0.47699999809265137), ('loss', 0.7882263660430908)}\n",
            "After Training: {('compile_metrics', 0.48500001430511475), ('loss', 0.7738050818443298)}\n",
            "Optimiser:  adam\n",
            "Before Training: {('compile_metrics', 0.5120000243186951), ('loss', 0.713622510433197)}\n",
            "After Training: {('compile_metrics', 0.6110000014305115), ('loss', 0.6525038480758667)}\n",
            "Optimiser:  adamax\n",
            "Before Training: {('compile_metrics', 0.5149999856948853), ('loss', 0.7109670639038086)}\n",
            "After Training: {('compile_metrics', 0.5509999990463257), ('loss', 0.6862004399299622)}\n",
            "Optimiser:  nadam\n",
            "Before Training: {('compile_metrics', 0.47999998927116394), ('loss', 0.8032404780387878)}\n",
            "After Training: {('compile_metrics', 0.6100000143051147), ('loss', 0.65206378698349)}\n"
          ]
        }
      ]
    }
  ]
}
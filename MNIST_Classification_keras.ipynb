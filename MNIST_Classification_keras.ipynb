{
  "nbformat": 4,
  "nbformat_minor": 0,
  "metadata": {
    "colab": {
      "provenance": [],
      "gpuType": "T4",
      "include_colab_link": true
    },
    "kernelspec": {
      "name": "python3",
      "display_name": "Python 3"
    },
    "language_info": {
      "name": "python"
    },
    "accelerator": "GPU"
  },
  "cells": [
    {
      "cell_type": "markdown",
      "metadata": {
        "id": "view-in-github",
        "colab_type": "text"
      },
      "source": [
        "<a href=\"https://colab.research.google.com/github/andrewj-mit/Deep-Learning-Training/blob/main/MNIST_Classification_keras.ipynb\" target=\"_parent\"><img src=\"https://colab.research.google.com/assets/colab-badge.svg\" alt=\"Open In Colab\"/></a>"
      ]
    },
    {
      "cell_type": "markdown",
      "source": [
        "# Handwritten Image Classification"
      ],
      "metadata": {
        "id": "3FTb1dkkDXYJ"
      }
    },
    {
      "cell_type": "markdown",
      "source": [
        "## Import libraries"
      ],
      "metadata": {
        "id": "qqNV4ovIDcNW"
      }
    },
    {
      "cell_type": "code",
      "source": [
        "from keras.models import Sequential\n",
        "from keras.layers import Dense, Dropout, Activation\n",
        "from keras.optimizers import SGD\n",
        "from keras.utils import to_categorical\n",
        "import numpy as np\n",
        "# from keras.utils import np_utils"
      ],
      "metadata": {
        "id": "hTbAk57dbYbF"
      },
      "execution_count": 2,
      "outputs": []
    },
    {
      "cell_type": "markdown",
      "source": [
        "## Load the dataset"
      ],
      "metadata": {
        "id": "SbM1PG14DebT"
      }
    },
    {
      "cell_type": "code",
      "execution_count": 4,
      "metadata": {
        "colab": {
          "base_uri": "https://localhost:8080/"
        },
        "id": "ZFelJVSlV3UF",
        "outputId": "64f554c2-61c5-4252-ddfb-548102e17a58"
      },
      "outputs": [
        {
          "output_type": "stream",
          "name": "stdout",
          "text": [
            "Train: X=(60000, 28, 28), y=(60000,)\n",
            "Test: X=(10000, 28, 28), y=(10000,)\n"
          ]
        }
      ],
      "source": [
        "from tensorflow.keras.datasets import mnist\n",
        "from matplotlib import pyplot as plt\n",
        "# load dataset\n",
        "(X_train, Y_train), (X_test, Y_test) = mnist.load_data()\n",
        "# summarize loaded dataset\n",
        "print('Train: X=%s, y=%s' % (X_train.shape, Y_train.shape))\n",
        "print('Test: X=%s, y=%s' % (X_test.shape, Y_test.shape))\n"
      ]
    },
    {
      "cell_type": "markdown",
      "source": [
        "## Plot the dataset"
      ],
      "metadata": {
        "id": "zMFYKy01Dip7"
      }
    },
    {
      "cell_type": "code",
      "source": [
        "# plot first few images\n",
        "for i in range(9):\n",
        " # define subplot\n",
        " plt.subplot(330 + 1 + i)\n",
        " # plot raw pixel data\n",
        " plt.imshow(X_train[i], cmap=plt.get_cmap('gray'))\n",
        "# show the figure\n",
        "plt.show()"
      ],
      "metadata": {
        "colab": {
          "base_uri": "https://localhost:8080/",
          "height": 433
        },
        "id": "weP5IcYbWKBC",
        "outputId": "c346ecd2-c7c9-4b8a-b4b3-bfc17da84955"
      },
      "execution_count": 5,
      "outputs": [
        {
          "output_type": "display_data",
          "data": {
            "text/plain": [
              "<Figure size 640x480 with 9 Axes>"
            ],
            "image/png": "[encoded data removed]"
          },
          "metadata": {}
        }
      ]
    },
    {
      "cell_type": "markdown",
      "source": [
        "L"
      ],
      "metadata": {
        "id": "7lFx--zKDmc7"
      }
    },
    {
      "cell_type": "code",
      "source": [
        "# building the input vector from the 28x28 pixels\n",
        "X_train = X_train.reshape(60000, 784)\n",
        "X_test = X_test.reshape(10000, 784)\n",
        "X_train = X_train.astype('float32')\n",
        "X_test = X_test.astype('float32')"
      ],
      "metadata": {
        "id": "YKQyUEStkaHA"
      },
      "execution_count": 7,
      "outputs": []
    },
    {
      "cell_type": "code",
      "source": [
        "# normalizing the data to help with the training\n",
        "X_train /= 255\n",
        "X_test /= 255"
      ],
      "metadata": {
        "id": "FaQqoK7-kkr9"
      },
      "execution_count": 8,
      "outputs": []
    },
    {
      "cell_type": "code",
      "source": [
        "# print the final input shape ready for training\n",
        "print(\"Train matrix shape\", X_train.shape)\n",
        "print(\"Test matrix shape\", X_test.shape)"
      ],
      "metadata": {
        "colab": {
          "base_uri": "https://localhost:8080/"
        },
        "id": "2Nvs-MB-knED",
        "outputId": "3ff3930a-1e7e-4e8d-c677-602b12131e4d"
      },
      "execution_count": 9,
      "outputs": [
        {
          "output_type": "stream",
          "name": "stdout",
          "text": [
            "Train matrix shape (60000, 784)\n",
            "Test matrix shape (10000, 784)\n"
          ]
        }
      ]
    },
    {
      "cell_type": "code",
      "source": [
        "# one-hot encoding using keras' numpy-related utilities\n",
        "n_classes = 10\n",
        "print(\"Shape before one-hot encoding: \", Y_train.shape)\n",
        "Y_train = to_categorical(Y_train, n_classes)\n",
        "Y_test = to_categorical(Y_test, n_classes)\n",
        "print(\"Shape after one-hot encoding: \", Y_train.shape)"
      ],
      "metadata": {
        "colab": {
          "base_uri": "https://localhost:8080/"
        },
        "id": "M9kBAeHlkrPz",
        "outputId": "8787a286-0045-4caa-df62-243f30fbe7be"
      },
      "execution_count": 10,
      "outputs": [
        {
          "output_type": "stream",
          "name": "stdout",
          "text": [
            "Shape before one-hot encoding:  (60000,)\n",
            "Shape after one-hot encoding:  (60000, 10)\n"
          ]
        }
      ]
    },
    {
      "cell_type": "markdown",
      "source": [
        "## Build a neural network model"
      ],
      "metadata": {
        "id": "Bd3HKm6SEbSg"
      }
    },
    {
      "cell_type": "code",
      "source": [
        "#Define Keras Model\n",
        "# model is a 3-layer MLP with ReLU and dropout after each layer\n",
        "# building a linear stack of layers with the sequential model\n",
        "model = Sequential()\n",
        "model.add(Dense(512, input_shape=(784,)))\n",
        "model.add(Activation('relu'))\n",
        "model.add(Dropout(0.2))\n",
        "\n",
        "model.add(Dense(512))\n",
        "model.add(Activation('relu'))\n",
        "model.add(Dropout(0.2))\n",
        "\n",
        "model.add(Dense(10))\n",
        "model.add(Activation('softmax'))"
      ],
      "metadata": {
        "id": "1KUDC6p9cFDA",
        "colab": {
          "base_uri": "https://localhost:8080/"
        },
        "outputId": "f9d9fac9-8b8a-4f46-c408-4706bf6126f8"
      },
      "execution_count": 11,
      "outputs": [
        {
          "output_type": "stream",
          "name": "stderr",
          "text": [
            "/usr/local/lib/python3.10/dist-packages/keras/src/layers/core/dense.py:87: UserWarning: Do not pass an `input_shape`/`input_dim` argument to a layer. When using Sequential models, prefer using an `Input(shape)` object as the first layer in the model instead.\n",
            "  super().__init__(activity_regularizer=activity_regularizer, **kwargs)\n"
          ]
        }
      ]
    },
    {
      "cell_type": "markdown",
      "source": [
        "## Compile the model"
      ],
      "metadata": {
        "id": "3_xyZdBhEghB"
      }
    },
    {
      "cell_type": "code",
      "source": [
        "# compiling the sequential model\n",
        "model.compile(loss='categorical_crossentropy', metrics=['accuracy'], optimizer='adam')"
      ],
      "metadata": {
        "id": "ra6HuGTXddXo"
      },
      "execution_count": 12,
      "outputs": []
    },
    {
      "cell_type": "markdown",
      "source": [
        "## Train the model"
      ],
      "metadata": {
        "id": "Y7mEI4C_EkGg"
      }
    },
    {
      "cell_type": "code",
      "source": [
        "# training the model and saving metrics in history\n",
        "history = model.fit(X_train, Y_train,\n",
        "          batch_size=128, epochs=20,\n",
        "          verbose=2,\n",
        "          validation_data=(X_test, Y_test))"
      ],
      "metadata": {
        "colab": {
          "base_uri": "https://localhost:8080/"
        },
        "id": "d8XnR-FVdnRU",
        "outputId": "f1c3cea5-e7b6-4476-9bff-2b1375875d23"
      },
      "execution_count": 13,
      "outputs": [
        {
          "output_type": "stream",
          "name": "stdout",
          "text": [
            "Epoch 1/20\n",
            "469/469 - 7s - 14ms/step - accuracy: 0.9261 - loss: 0.2502 - val_accuracy: 0.9692 - val_loss: 0.1003\n",
            "Epoch 2/20\n",
            "469/469 - 6s - 13ms/step - accuracy: 0.9691 - loss: 0.1004 - val_accuracy: 0.9748 - val_loss: 0.0807\n",
            "Epoch 3/20\n",
            "469/469 - 1s - 3ms/step - accuracy: 0.9764 - loss: 0.0738 - val_accuracy: 0.9792 - val_loss: 0.0703\n",
            "Epoch 4/20\n",
            "469/469 - 1s - 2ms/step - accuracy: 0.9826 - loss: 0.0555 - val_accuracy: 0.9785 - val_loss: 0.0704\n",
            "Epoch 5/20\n",
            "469/469 - 1s - 2ms/step - accuracy: 0.9849 - loss: 0.0462 - val_accuracy: 0.9816 - val_loss: 0.0590\n",
            "Epoch 6/20\n",
            "469/469 - 1s - 3ms/step - accuracy: 0.9865 - loss: 0.0394 - val_accuracy: 0.9817 - val_loss: 0.0638\n",
            "Epoch 7/20\n",
            "469/469 - 1s - 2ms/step - accuracy: 0.9885 - loss: 0.0349 - val_accuracy: 0.9837 - val_loss: 0.0595\n",
            "Epoch 8/20\n",
            "469/469 - 1s - 3ms/step - accuracy: 0.9903 - loss: 0.0302 - val_accuracy: 0.9822 - val_loss: 0.0675\n",
            "Epoch 9/20\n",
            "469/469 - 1s - 3ms/step - accuracy: 0.9917 - loss: 0.0252 - val_accuracy: 0.9796 - val_loss: 0.0831\n",
            "Epoch 10/20\n",
            "469/469 - 1s - 3ms/step - accuracy: 0.9905 - loss: 0.0270 - val_accuracy: 0.9820 - val_loss: 0.0704\n",
            "Epoch 11/20\n",
            "469/469 - 1s - 2ms/step - accuracy: 0.9926 - loss: 0.0231 - val_accuracy: 0.9825 - val_loss: 0.0707\n",
            "Epoch 12/20\n",
            "469/469 - 2s - 3ms/step - accuracy: 0.9921 - loss: 0.0221 - val_accuracy: 0.9817 - val_loss: 0.0738\n",
            "Epoch 13/20\n",
            "469/469 - 2s - 3ms/step - accuracy: 0.9925 - loss: 0.0222 - val_accuracy: 0.9830 - val_loss: 0.0689\n",
            "Epoch 14/20\n",
            "469/469 - 2s - 4ms/step - accuracy: 0.9936 - loss: 0.0191 - val_accuracy: 0.9813 - val_loss: 0.0721\n",
            "Epoch 15/20\n",
            "469/469 - 1s - 3ms/step - accuracy: 0.9935 - loss: 0.0188 - val_accuracy: 0.9818 - val_loss: 0.0796\n",
            "Epoch 16/20\n",
            "469/469 - 1s - 3ms/step - accuracy: 0.9942 - loss: 0.0174 - val_accuracy: 0.9825 - val_loss: 0.0764\n",
            "Epoch 17/20\n",
            "469/469 - 1s - 2ms/step - accuracy: 0.9944 - loss: 0.0165 - val_accuracy: 0.9822 - val_loss: 0.0789\n",
            "Epoch 18/20\n",
            "469/469 - 1s - 3ms/step - accuracy: 0.9943 - loss: 0.0170 - val_accuracy: 0.9822 - val_loss: 0.0831\n",
            "Epoch 19/20\n",
            "469/469 - 1s - 2ms/step - accuracy: 0.9956 - loss: 0.0132 - val_accuracy: 0.9826 - val_loss: 0.0797\n",
            "Epoch 20/20\n",
            "469/469 - 1s - 2ms/step - accuracy: 0.9949 - loss: 0.0156 - val_accuracy: 0.9835 - val_loss: 0.0835\n"
          ]
        }
      ]
    },
    {
      "cell_type": "code",
      "source": [
        "history_dict = history.history\n",
        "print(history_dict.keys())"
      ],
      "metadata": {
        "colab": {
          "base_uri": "https://localhost:8080/"
        },
        "id": "BLJ-0fmymVuy",
        "outputId": "f6a9e3c2-d9cc-46e6-e4c9-1b24b46c6063"
      },
      "execution_count": 14,
      "outputs": [
        {
          "output_type": "stream",
          "name": "stdout",
          "text": [
            "dict_keys(['accuracy', 'loss', 'val_accuracy', 'val_loss'])\n"
          ]
        }
      ]
    },
    {
      "cell_type": "code",
      "source": [
        "# plotting the metrics\n",
        "fig = plt.figure()\n",
        "# plt.subplot(2,1,1)\n",
        "plt.plot(history.history['accuracy'])\n",
        "plt.plot(history.history['val_accuracy'])\n",
        "plt.title('model accuracy')\n",
        "plt.ylabel('accuracy')\n",
        "plt.xlabel('epoch')\n",
        "plt.legend(['train', 'test'], loc='lower right')\n",
        "\n",
        "# plt.subplot(2,1,2)\n",
        "plt.plot(history.history['loss'])\n",
        "plt.plot(history.history['val_loss'])\n",
        "plt.title('model loss')\n",
        "plt.ylabel('loss')\n",
        "plt.xlabel('epoch')\n",
        "plt.legend(['train', 'test'], loc='upper right')\n",
        "\n",
        "# plt.tight_layout()"
      ],
      "metadata": {
        "colab": {
          "base_uri": "https://localhost:8080/",
          "height": 490
        },
        "id": "vDWqeTEZmRSE",
        "outputId": "bf430b55-c7e4-41c6-94f5-d44d18e6e884"
      },
      "execution_count": 15,
      "outputs": [
        {
          "output_type": "execute_result",
          "data": {
            "text/plain": [
              "<matplotlib.legend.Legend at 0x7bff402f4fa0>"
            ]
          },
          "metadata": {},
          "execution_count": 15
        },
        {
          "output_type": "display_data",
          "data": {
            "text/plain": [
              "<Figure size 640x480 with 1 Axes>"
            ],
            "image/png": "[encoded data removed]"
          },
          "metadata": {}
        }
      ]
    },
    {
      "cell_type": "code",
      "source": [
        "import numpy\n",
        "from keras.datasets import mnist\n",
        "from keras.models import Sequential\n",
        "from keras.layers import Dense\n",
        "from keras.layers import Dropout\n",
        "from keras.layers import Flatten\n",
        "from keras.layers import Conv2D\n",
        "from keras.layers import MaxPooling2D\n",
        "from keras.utils import to_categorical\n",
        "from keras import backend as K\n",
        "# K.tensorflow_backend.set_image_dim_ordering('th')"
      ],
      "metadata": {
        "id": "CY-KDVnCfnhq"
      },
      "execution_count": 16,
      "outputs": []
    },
    {
      "cell_type": "code",
      "source": [
        "seed = 7\n",
        "numpy.random.seed(seed)"
      ],
      "metadata": {
        "id": "zCI2_uQTf6xm"
      },
      "execution_count": 17,
      "outputs": []
    },
    {
      "cell_type": "code",
      "source": [
        "(X_train, y_train), (X_test, y_test) = mnist.load_data()"
      ],
      "metadata": {
        "id": "SXx2e6cChOUW"
      },
      "execution_count": 22,
      "outputs": []
    },
    {
      "cell_type": "code",
      "source": [
        "X_train.shape"
      ],
      "metadata": {
        "colab": {
          "base_uri": "https://localhost:8080/"
        },
        "id": "qMVcbG23FaRQ",
        "outputId": "77e0b097-5320-4a3e-9140-820bd863d129"
      },
      "execution_count": 23,
      "outputs": [
        {
          "output_type": "execute_result",
          "data": {
            "text/plain": [
              "(60000, 28, 28)"
            ]
          },
          "metadata": {},
          "execution_count": 23
        }
      ]
    },
    {
      "cell_type": "markdown",
      "source": [
        "Convolutional Neural Network (2D) accepts input as height X width X no.of channels.\n",
        "\n",
        "So to preprare the datasets to supply them as input, reshape the dataset images."
      ],
      "metadata": {
        "id": "fAoqBLCBFh27"
      }
    },
    {
      "cell_type": "code",
      "source": [
        "X_train = X_train.reshape(X_train.shape[0], 1, 28, 28).astype('float32')\n",
        "X_test = X_test.reshape(X_test.shape[0], 1, 28, 28).astype('float32')"
      ],
      "metadata": {
        "id": "z8Desv23hR4f"
      },
      "execution_count": 24,
      "outputs": []
    },
    {
      "cell_type": "code",
      "source": [
        "X_train.shape"
      ],
      "metadata": {
        "colab": {
          "base_uri": "https://localhost:8080/"
        },
        "id": "n2egYWfLFUqj",
        "outputId": "c0f59bb7-2979-4e68-e229-522bb439daae"
      },
      "execution_count": 25,
      "outputs": [
        {
          "output_type": "execute_result",
          "data": {
            "text/plain": [
              "(60000, 1, 28, 28)"
            ]
          },
          "metadata": {},
          "execution_count": 25
        }
      ]
    },
    {
      "cell_type": "code",
      "source": [
        "X_train = X_train / 255\n",
        "X_test = X_test / 255"
      ],
      "metadata": {
        "id": "wsv5k4F5hmbi"
      },
      "execution_count": 26,
      "outputs": []
    },
    {
      "cell_type": "code",
      "source": [
        "y_train = to_categorical(y_train)\n",
        "y_test = to_categorical(y_test)\n",
        "num_classes = y_test.shape[1]"
      ],
      "metadata": {
        "id": "yeLhjOQFhon6"
      },
      "execution_count": 27,
      "outputs": []
    },
    {
      "cell_type": "markdown",
      "source": [
        "To calculate the output of a Conv2D layer use the following formula\n",
        "\n",
        "[(W−K+2P)/S]+1\n",
        "\n",
        "W is the input volume\n",
        "\n",
        "K is the Kernel size\n",
        "\n",
        "P is the padding\n",
        "\n",
        "S is the stride"
      ],
      "metadata": {
        "id": "XG_9EHWbG1O5"
      }
    },
    {
      "cell_type": "code",
      "source": [
        "def baseline_model():\n",
        "\t# create model\n",
        "\tmodel = Sequential()\n",
        "\tmodel.add(Conv2D(32, (5, 5), input_shape=(1, 28, 28), activation='relu', padding='same')) # Add padding to handle the edge cases\n",
        "\tmodel.add(MaxPooling2D(pool_size=(2, 2), padding='same'))\n",
        "\tmodel.add(Conv2D(64, (5, 5), activation='relu', padding='same'))\n",
        "\tmodel.add(MaxPooling2D(pool_size=(2, 2), padding='same'))\n",
        "\tmodel.add(Dropout(0.2))\n",
        "\tmodel.add(Flatten())\n",
        "\tmodel.add(Dense(128, activation='relu'))\n",
        "\tmodel.add(Dense(num_classes, activation='softmax'))\n",
        "\t# Compile model\n",
        "\tmodel.compile(loss='categorical_crossentropy', optimizer='adam', metrics=['accuracy'])\n",
        "\treturn model"
      ],
      "metadata": {
        "id": "YWksK6SHhtIx"
      },
      "execution_count": 29,
      "outputs": []
    },
    {
      "cell_type": "code",
      "source": [
        "model = baseline_model()\n",
        "model.fit(X_train, y_train, validation_data=(X_test, y_test), epochs=10, batch_size=200, verbose=2)"
      ],
      "metadata": {
        "colab": {
          "base_uri": "https://localhost:8080/"
        },
        "id": "FRra_rcGhxbh",
        "outputId": "bd61463b-e41d-4db1-8740-bc7a2ee0751f"
      },
      "execution_count": 30,
      "outputs": [
        {
          "output_type": "stream",
          "name": "stderr",
          "text": [
            "/usr/local/lib/python3.10/dist-packages/keras/src/layers/convolutional/base_conv.py:107: UserWarning: Do not pass an `input_shape`/`input_dim` argument to a layer. When using Sequential models, prefer using an `Input(shape)` object as the first layer in the model instead.\n",
            "  super().__init__(activity_regularizer=activity_regularizer, **kwargs)\n"
          ]
        },
        {
          "output_type": "stream",
          "name": "stdout",
          "text": [
            "Epoch 1/10\n",
            "300/300 - 5s - 17ms/step - accuracy: 0.8747 - loss: 0.4147 - val_accuracy: 0.9628 - val_loss: 0.1264\n",
            "Epoch 2/10\n",
            "300/300 - 1s - 3ms/step - accuracy: 0.9638 - loss: 0.1188 - val_accuracy: 0.9772 - val_loss: 0.0749\n",
            "Epoch 3/10\n",
            "300/300 - 1s - 4ms/step - accuracy: 0.9740 - loss: 0.0831 - val_accuracy: 0.9795 - val_loss: 0.0586\n",
            "Epoch 4/10\n",
            "300/300 - 1s - 4ms/step - accuracy: 0.9795 - loss: 0.0666 - val_accuracy: 0.9816 - val_loss: 0.0532\n",
            "Epoch 5/10\n",
            "300/300 - 1s - 3ms/step - accuracy: 0.9823 - loss: 0.0572 - val_accuracy: 0.9866 - val_loss: 0.0406\n",
            "Epoch 6/10\n",
            "300/300 - 1s - 4ms/step - accuracy: 0.9848 - loss: 0.0488 - val_accuracy: 0.9859 - val_loss: 0.0410\n",
            "Epoch 7/10\n",
            "300/300 - 1s - 3ms/step - accuracy: 0.9855 - loss: 0.0451 - val_accuracy: 0.9881 - val_loss: 0.0351\n",
            "Epoch 8/10\n",
            "300/300 - 1s - 4ms/step - accuracy: 0.9875 - loss: 0.0389 - val_accuracy: 0.9881 - val_loss: 0.0360\n",
            "Epoch 9/10\n",
            "300/300 - 1s - 4ms/step - accuracy: 0.9889 - loss: 0.0344 - val_accuracy: 0.9896 - val_loss: 0.0327\n",
            "Epoch 10/10\n",
            "300/300 - 1s - 4ms/step - accuracy: 0.9902 - loss: 0.0305 - val_accuracy: 0.9907 - val_loss: 0.0273\n"
          ]
        },
        {
          "output_type": "execute_result",
          "data": {
            "text/plain": [
              "<keras.src.callbacks.history.History at 0x7bff59ffabc0>"
            ]
          },
          "metadata": {},
          "execution_count": 30
        }
      ]
    },
    {
      "cell_type": "code",
      "source": [
        "scores = model.evaluate(X_test, y_test, verbose=0)\n",
        "print(\"CNN Error: %.2f%%\" % (100-scores[1]*100))"
      ],
      "metadata": {
        "colab": {
          "base_uri": "https://localhost:8080/"
        },
        "id": "Izlz6MxRigbE",
        "outputId": "bb5e43f9-0cba-4691-92fe-823e8cc5c7d3"
      },
      "execution_count": 31,
      "outputs": [
        {
          "output_type": "stream",
          "name": "stdout",
          "text": [
            "CNN Error: 0.93%\n"
          ]
        }
      ]
    },
    {
      "cell_type": "markdown",
      "source": [
        "#Image Classification Using Pretrained Networks\n",
        "\n",
        "1. Preprocess the MNIST Dataset:\n",
        "\n",
        "Convert the MNIST grayscale images to 3-channel RGB images and resize them to 224x224 pixels."
      ],
      "metadata": {
        "id": "wRmusP3E3Q43"
      }
    },
    {
      "cell_type": "code",
      "source": [
        "import numpy as np\n",
        "import tensorflow as tf\n",
        "from tensorflow.keras.datasets import mnist\n",
        "from tensorflow.keras.utils import to_categorical\n",
        "from tensorflow.keras.applications import VGG16\n",
        "from tensorflow.keras.models import Sequential\n",
        "from tensorflow.keras.layers import Dense, Flatten\n",
        "\n",
        "# Load the MNIST dataset\n",
        "(x_train, y_train), (x_test, y_test) = mnist.load_data()\n",
        "\n",
        "# Convert grayscale images to RGB by duplicating the channels\n",
        "x_train = np.stack([x_train] * 3, axis=-1)\n",
        "x_test = np.stack([x_test] * 3, axis=-1)\n",
        "\n",
        "# Resize images to 224x224 to match VGG16 input size\n",
        "x_train = tf.image.resize(x_train, (224, 224))\n",
        "x_test = tf.image.resize(x_test, (224, 224))\n",
        "\n",
        "# Normalize pixel values to [0, 1]\n",
        "x_train = x_train / 255.0\n",
        "x_test = x_test / 255.0\n",
        "\n",
        "# One-hot encode the labels\n",
        "y_train = to_categorical(y_train, 10)\n",
        "y_test = to_categorical(y_test, 10)\n"
      ],
      "metadata": {
        "id": "EJ2DGyJ80D5Q"
      },
      "execution_count": null,
      "outputs": []
    },
    {
      "cell_type": "markdown",
      "source": [
        "2. Load the VGG16 Model and Modify It:\n",
        "\n",
        "Load the VGG16 model pretrained on ImageNet and modify it for the MNIST task."
      ],
      "metadata": {
        "id": "ptuwYznO3ZjA"
      }
    },
    {
      "cell_type": "code",
      "source": [
        "# Load the VGG16 model without the top fully connected layers\n",
        "vgg16_base = VGG16(weights='imagenet', include_top=False, input_shape=(224, 224, 3))\n",
        "\n",
        "# Freeze the convolutional base of VGG16\n",
        "vgg16_base.trainable = False\n",
        "\n",
        "# Create a new model with VGG16 as the base\n",
        "model = Sequential([\n",
        "    vgg16_base,\n",
        "    Flatten(),  # Flatten the output to feed into fully connected layers\n",
        "    Dense(256, activation='relu'),  # Add a dense layer with 256 units\n",
        "    Dense(10, activation='softmax')  # Output layer for 10 classes (digits 0-9)\n",
        "])\n",
        "\n",
        "# Compile the model\n",
        "model.compile(optimizer='adam', loss='categorical_crossentropy', metrics=['accuracy'])\n"
      ],
      "metadata": {
        "id": "afnKo5HN0Zsm"
      },
      "execution_count": null,
      "outputs": []
    },
    {
      "cell_type": "markdown",
      "source": [
        "3. Train and Evaluate the Model:\n",
        "\n",
        "Train the model on the MNIST dataset and evaluate its performance."
      ],
      "metadata": {
        "id": "YsjOdudL3dWx"
      }
    },
    {
      "cell_type": "code",
      "source": [
        "# Train the model\n",
        "model.fit(x_train, y_train, validation_data=(x_test, y_test), epochs=10, batch_size=32)\n",
        "\n",
        "# Evaluate the model\n",
        "loss, accuracy = model.evaluate(x_test, y_test)\n",
        "print(f'Test accuracy: {accuracy:.4f}')"
      ],
      "metadata": {
        "id": "BLcbyVo00Otm"
      },
      "execution_count": null,
      "outputs": []
    }
  ]
}
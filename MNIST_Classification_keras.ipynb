{
  "nbformat": 4,
  "nbformat_minor": 0,
  "metadata": {
    "colab": {
      "provenance": [],
      "gpuType": "T4",
      "include_colab_link": true
    },
    "kernelspec": {
      "name": "python3",
      "display_name": "Python 3"
    },
    "language_info": {
      "name": "python"
    },
    "accelerator": "GPU"
  },
  "cells": [
    {
      "cell_type": "markdown",
      "metadata": {
        "id": "view-in-github",
        "colab_type": "text"
      },
      "source": [
        "<a href=\"https://colab.research.google.com/github/andrewj-mit/Deep-Learning-Training/blob/main/MNIST_Classification_keras.ipynb\" target=\"_parent\"><img src=\"https://colab.research.google.com/assets/colab-badge.svg\" alt=\"Open In Colab\"/></a>"
      ]
    },
    {
      "cell_type": "code",
      "source": [
        "from keras.models import Sequential\n",
        "from keras.layers import Dense, Dropout, Activation\n",
        "from keras.optimizers import SGD\n",
        "from keras.utils import to_categorical\n",
        "import numpy as np\n",
        "# from keras.utils import np_utils"
      ],
      "metadata": {
        "id": "hTbAk57dbYbF"
      },
      "execution_count": 1,
      "outputs": []
    },
    {
      "cell_type": "code",
      "execution_count": 2,
      "metadata": {
        "colab": {
          "base_uri": "https://localhost:8080/"
        },
        "id": "ZFelJVSlV3UF",
        "outputId": "5c70a868-7319-481b-a375-715af996186f"
      },
      "outputs": [
        {
          "output_type": "stream",
          "name": "stdout",
          "text": [
            "Downloading data from https://storage.googleapis.com/tensorflow/tf-keras-datasets/mnist.npz\n",
            "\u001b[1m11490434/11490434\u001b[0m \u001b[32m━━━━━━━━━━━━━━━━━━━━\u001b[0m\u001b[37m\u001b[0m \u001b[1m0s\u001b[0m 0us/step\n",
            "Train: X=(60000, 28, 28), y=(60000,)\n",
            "Test: X=(10000, 28, 28), y=(10000,)\n"
          ]
        }
      ],
      "source": [
        "from tensorflow.keras.datasets import mnist\n",
        "from matplotlib import pyplot as plt\n",
        "# load dataset\n",
        "(trainX, trainy), (testX, testy) = mnist.load_data()\n",
        "# summarize loaded dataset\n",
        "print('Train: X=%s, y=%s' % (trainX.shape, trainy.shape))\n",
        "print('Test: X=%s, y=%s' % (testX.shape, testy.shape))\n"
      ]
    },
    {
      "cell_type": "code",
      "source": [
        "# plot first few images\n",
        "for i in range(9):\n",
        " # define subplot\n",
        " plt.subplot(330 + 1 + i)\n",
        " # plot raw pixel data\n",
        " plt.imshow(trainX[i], cmap=plt.get_cmap('gray'))\n",
        "# show the figure\n",
        "plt.show()"
      ],
      "metadata": {
        "colab": {
          "base_uri": "https://localhost:8080/",
          "height": 433
        },
        "id": "weP5IcYbWKBC",
        "outputId": "113dce4e-63d3-4037-99b4-2d719fc143e4"
      },
      "execution_count": 3,
      "outputs": [
        {
          "output_type": "display_data",
          "data": {
            "text/plain": [
              "<Figure size 640x480 with 9 Axes>"
            ],
            "image/png": "[encoded data removed]"
          },
          "metadata": {}
        }
      ]
    },
    {
      "cell_type": "code",
      "source": [
        "# load dataset\n",
        "(X_train, Y_train), (X_test, Y_test) = mnist.load_data()"
      ],
      "metadata": {
        "id": "lzBpD3EdXpQJ"
      },
      "execution_count": 4,
      "outputs": []
    },
    {
      "cell_type": "code",
      "source": [
        "# building the input vector from the 28x28 pixels\n",
        "X_train = X_train.reshape(60000, 784)\n",
        "X_test = X_test.reshape(10000, 784)\n",
        "X_train = X_train.astype('float32')\n",
        "X_test = X_test.astype('float32')"
      ],
      "metadata": {
        "id": "YKQyUEStkaHA"
      },
      "execution_count": 5,
      "outputs": []
    },
    {
      "cell_type": "code",
      "source": [
        "# normalizing the data to help with the training\n",
        "X_train /= 255\n",
        "X_test /= 255"
      ],
      "metadata": {
        "id": "FaQqoK7-kkr9"
      },
      "execution_count": 6,
      "outputs": []
    },
    {
      "cell_type": "code",
      "source": [
        "# print the final input shape ready for training\n",
        "print(\"Train matrix shape\", X_train.shape)\n",
        "print(\"Test matrix shape\", X_test.shape)"
      ],
      "metadata": {
        "colab": {
          "base_uri": "https://localhost:8080/"
        },
        "id": "2Nvs-MB-knED",
        "outputId": "ad3bdec6-5eca-4b69-a036-58da9d43531a"
      },
      "execution_count": 7,
      "outputs": [
        {
          "output_type": "stream",
          "name": "stdout",
          "text": [
            "Train matrix shape (60000, 784)\n",
            "Test matrix shape (10000, 784)\n"
          ]
        }
      ]
    },
    {
      "cell_type": "code",
      "source": [
        "# one-hot encoding using keras' numpy-related utilities\n",
        "n_classes = 10\n",
        "print(\"Shape before one-hot encoding: \", Y_train.shape)\n",
        "Y_train = to_categorical(Y_train, n_classes)\n",
        "Y_test = to_categorical(Y_test, n_classes)\n",
        "print(\"Shape after one-hot encoding: \", Y_train.shape)"
      ],
      "metadata": {
        "colab": {
          "base_uri": "https://localhost:8080/"
        },
        "id": "M9kBAeHlkrPz",
        "outputId": "0d152273-2505-4344-cb3c-20d94531f87f"
      },
      "execution_count": 8,
      "outputs": [
        {
          "output_type": "stream",
          "name": "stdout",
          "text": [
            "Shape before one-hot encoding:  (60000,)\n",
            "Shape after one-hot encoding:  (60000, 10)\n"
          ]
        }
      ]
    },
    {
      "cell_type": "code",
      "source": [
        "#Define Keras Model\n",
        "# model is a 3-layer MLP with ReLU and dropout after each layer\n",
        "# building a linear stack of layers with the sequential model\n",
        "model = Sequential()\n",
        "model.add(Dense(512, input_shape=(784,)))\n",
        "model.add(Activation('relu'))\n",
        "model.add(Dropout(0.2))\n",
        "\n",
        "model.add(Dense(512))\n",
        "model.add(Activation('relu'))\n",
        "model.add(Dropout(0.2))\n",
        "\n",
        "model.add(Dense(10))\n",
        "model.add(Activation('softmax'))"
      ],
      "metadata": {
        "id": "1KUDC6p9cFDA",
        "colab": {
          "base_uri": "https://localhost:8080/"
        },
        "outputId": "36ad3165-7cea-4c16-def1-90d64c0cc6df"
      },
      "execution_count": 9,
      "outputs": [
        {
          "output_type": "stream",
          "name": "stderr",
          "text": [
            "/usr/local/lib/python3.10/dist-packages/keras/src/layers/core/dense.py:87: UserWarning: Do not pass an `input_shape`/`input_dim` argument to a layer. When using Sequential models, prefer using an `Input(shape)` object as the first layer in the model instead.\n",
            "  super().__init__(activity_regularizer=activity_regularizer, **kwargs)\n"
          ]
        }
      ]
    },
    {
      "cell_type": "code",
      "source": [
        "# compiling the sequential model\n",
        "model.compile(loss='categorical_crossentropy', metrics=['accuracy'], optimizer='adam')"
      ],
      "metadata": {
        "id": "ra6HuGTXddXo"
      },
      "execution_count": 10,
      "outputs": []
    },
    {
      "cell_type": "code",
      "source": [
        "# training the model and saving metrics in history\n",
        "history = model.fit(X_train, Y_train,\n",
        "          batch_size=128, epochs=20,\n",
        "          verbose=2,\n",
        "          validation_data=(X_test, Y_test))"
      ],
      "metadata": {
        "colab": {
          "base_uri": "https://localhost:8080/"
        },
        "id": "d8XnR-FVdnRU",
        "outputId": "fe5d34af-07e2-424e-fa2f-1c2bc8e1400d"
      },
      "execution_count": 11,
      "outputs": [
        {
          "output_type": "stream",
          "name": "stdout",
          "text": [
            "Epoch 1/20\n",
            "469/469 - 12s - 26ms/step - accuracy: 0.9269 - loss: 0.2467 - val_accuracy: 0.9667 - val_loss: 0.1050\n",
            "Epoch 2/20\n",
            "469/469 - 1s - 3ms/step - accuracy: 0.9697 - loss: 0.1004 - val_accuracy: 0.9713 - val_loss: 0.0880\n",
            "Epoch 3/20\n",
            "469/469 - 1s - 3ms/step - accuracy: 0.9769 - loss: 0.0726 - val_accuracy: 0.9779 - val_loss: 0.0713\n",
            "Epoch 4/20\n",
            "469/469 - 2s - 5ms/step - accuracy: 0.9817 - loss: 0.0568 - val_accuracy: 0.9769 - val_loss: 0.0745\n",
            "Epoch 5/20\n",
            "469/469 - 1s - 3ms/step - accuracy: 0.9852 - loss: 0.0448 - val_accuracy: 0.9811 - val_loss: 0.0643\n",
            "Epoch 6/20\n",
            "469/469 - 2s - 4ms/step - accuracy: 0.9871 - loss: 0.0398 - val_accuracy: 0.9798 - val_loss: 0.0671\n",
            "Epoch 7/20\n",
            "469/469 - 2s - 4ms/step - accuracy: 0.9894 - loss: 0.0324 - val_accuracy: 0.9824 - val_loss: 0.0703\n",
            "Epoch 8/20\n",
            "469/469 - 1s - 3ms/step - accuracy: 0.9898 - loss: 0.0303 - val_accuracy: 0.9839 - val_loss: 0.0600\n",
            "Epoch 9/20\n",
            "469/469 - 2s - 3ms/step - accuracy: 0.9907 - loss: 0.0281 - val_accuracy: 0.9812 - val_loss: 0.0665\n",
            "Epoch 10/20\n",
            "469/469 - 2s - 5ms/step - accuracy: 0.9919 - loss: 0.0249 - val_accuracy: 0.9835 - val_loss: 0.0596\n",
            "Epoch 11/20\n",
            "469/469 - 1s - 2ms/step - accuracy: 0.9927 - loss: 0.0218 - val_accuracy: 0.9807 - val_loss: 0.0733\n",
            "Epoch 12/20\n",
            "469/469 - 1s - 2ms/step - accuracy: 0.9921 - loss: 0.0239 - val_accuracy: 0.9812 - val_loss: 0.0788\n",
            "Epoch 13/20\n",
            "469/469 - 1s - 3ms/step - accuracy: 0.9931 - loss: 0.0208 - val_accuracy: 0.9842 - val_loss: 0.0599\n",
            "Epoch 14/20\n",
            "469/469 - 1s - 3ms/step - accuracy: 0.9942 - loss: 0.0164 - val_accuracy: 0.9825 - val_loss: 0.0783\n",
            "Epoch 15/20\n",
            "469/469 - 1s - 2ms/step - accuracy: 0.9936 - loss: 0.0192 - val_accuracy: 0.9843 - val_loss: 0.0677\n",
            "Epoch 16/20\n",
            "469/469 - 1s - 2ms/step - accuracy: 0.9940 - loss: 0.0179 - val_accuracy: 0.9820 - val_loss: 0.0780\n",
            "Epoch 17/20\n",
            "469/469 - 1s - 2ms/step - accuracy: 0.9936 - loss: 0.0192 - val_accuracy: 0.9850 - val_loss: 0.0700\n",
            "Epoch 18/20\n",
            "469/469 - 1s - 2ms/step - accuracy: 0.9951 - loss: 0.0142 - val_accuracy: 0.9842 - val_loss: 0.0704\n",
            "Epoch 19/20\n",
            "469/469 - 1s - 2ms/step - accuracy: 0.9947 - loss: 0.0164 - val_accuracy: 0.9827 - val_loss: 0.0789\n",
            "Epoch 20/20\n",
            "469/469 - 2s - 3ms/step - accuracy: 0.9953 - loss: 0.0142 - val_accuracy: 0.9822 - val_loss: 0.0798\n"
          ]
        }
      ]
    },
    {
      "cell_type": "code",
      "source": [
        "history_dict = history.history\n",
        "print(history_dict.keys())"
      ],
      "metadata": {
        "colab": {
          "base_uri": "https://localhost:8080/"
        },
        "id": "BLJ-0fmymVuy",
        "outputId": "6c98ab2f-fe66-4a1f-9b96-90dfbe3989cb"
      },
      "execution_count": 12,
      "outputs": [
        {
          "output_type": "stream",
          "name": "stdout",
          "text": [
            "dict_keys(['accuracy', 'loss', 'val_accuracy', 'val_loss'])\n"
          ]
        }
      ]
    },
    {
      "cell_type": "code",
      "source": [
        "# plotting the metrics\n",
        "fig = plt.figure()\n",
        "# plt.subplot(2,1,1)\n",
        "plt.plot(history.history['accuracy'])\n",
        "plt.plot(history.history['val_accuracy'])\n",
        "plt.title('model accuracy')\n",
        "plt.ylabel('accuracy')\n",
        "plt.xlabel('epoch')\n",
        "plt.legend(['train', 'test'], loc='lower right')\n",
        "\n",
        "# plt.subplot(2,1,2)\n",
        "plt.plot(history.history['loss'])\n",
        "plt.plot(history.history['val_loss'])\n",
        "plt.title('model loss')\n",
        "plt.ylabel('loss')\n",
        "plt.xlabel('epoch')\n",
        "plt.legend(['train', 'test'], loc='upper right')\n",
        "\n",
        "# plt.tight_layout()"
      ],
      "metadata": {
        "colab": {
          "base_uri": "https://localhost:8080/",
          "height": 490
        },
        "id": "vDWqeTEZmRSE",
        "outputId": "915895fe-e571-45f3-9b9f-6c285c42b9fe"
      },
      "execution_count": 13,
      "outputs": [
        {
          "output_type": "execute_result",
          "data": {
            "text/plain": [
              "<matplotlib.legend.Legend at 0x7c067398e980>"
            ]
          },
          "metadata": {},
          "execution_count": 13
        },
        {
          "output_type": "display_data",
          "data": {
            "text/plain": [
              "<Figure size 640x480 with 1 Axes>"
            ],
            "image/png": "[encoded data removed]"
          },
          "metadata": {}
        }
      ]
    },
    {
      "cell_type": "code",
      "source": [
        "import numpy\n",
        "from keras.datasets import mnist\n",
        "from keras.models import Sequential\n",
        "from keras.layers import Dense\n",
        "from keras.layers import Dropout\n",
        "from keras.layers import Flatten\n",
        "from keras.layers import Conv2D\n",
        "from keras.layers import MaxPooling2D\n",
        "from keras.utils import to_categorical\n",
        "from keras import backend as K\n",
        "# K.tensorflow_backend.set_image_dim_ordering('th')"
      ],
      "metadata": {
        "id": "CY-KDVnCfnhq"
      },
      "execution_count": 14,
      "outputs": []
    },
    {
      "cell_type": "code",
      "source": [
        "seed = 7\n",
        "numpy.random.seed(seed)"
      ],
      "metadata": {
        "id": "zCI2_uQTf6xm"
      },
      "execution_count": 15,
      "outputs": []
    },
    {
      "cell_type": "code",
      "source": [
        "(X_train, y_train), (X_test, y_test) = mnist.load_data()"
      ],
      "metadata": {
        "id": "SXx2e6cChOUW"
      },
      "execution_count": 16,
      "outputs": []
    },
    {
      "cell_type": "code",
      "source": [
        "X_train = X_train.reshape(X_train.shape[0], 1, 28, 28).astype('float32')\n",
        "X_test = X_test.reshape(X_test.shape[0], 1, 28, 28).astype('float32')"
      ],
      "metadata": {
        "id": "z8Desv23hR4f"
      },
      "execution_count": 17,
      "outputs": []
    },
    {
      "cell_type": "code",
      "source": [
        "X_train = X_train / 255\n",
        "X_test = X_test / 255"
      ],
      "metadata": {
        "id": "wsv5k4F5hmbi"
      },
      "execution_count": 18,
      "outputs": []
    },
    {
      "cell_type": "code",
      "source": [
        "y_train = to_categorical(y_train)\n",
        "y_test = to_categorical(y_test)\n",
        "num_classes = y_test.shape[1]"
      ],
      "metadata": {
        "id": "yeLhjOQFhon6"
      },
      "execution_count": 19,
      "outputs": []
    },
    {
      "cell_type": "code",
      "source": [
        "def baseline_model():\n",
        "\t# create model\n",
        "\tmodel = Sequential()\n",
        "\tmodel.add(Conv2D(32, (5, 5), input_shape=(1, 28, 28), activation='relu', padding='same')) # Add padding to handle the edge cases\n",
        "\tmodel.add(MaxPooling2D(pool_size=(2, 2), padding='same'))\n",
        "\tmodel.add(Dropout(0.2))\n",
        "\tmodel.add(Flatten())\n",
        "\tmodel.add(Dense(128, activation='relu'))\n",
        "\tmodel.add(Dense(num_classes, activation='softmax'))\n",
        "\t# Compile model\n",
        "\tmodel.compile(loss='categorical_crossentropy', optimizer='adam', metrics=['accuracy'])\n",
        "\treturn model"
      ],
      "metadata": {
        "id": "YWksK6SHhtIx"
      },
      "execution_count": 20,
      "outputs": []
    },
    {
      "cell_type": "code",
      "source": [
        "model = baseline_model()\n",
        "model.fit(X_train, y_train, validation_data=(X_test, y_test), epochs=10, batch_size=200, verbose=2)"
      ],
      "metadata": {
        "colab": {
          "base_uri": "https://localhost:8080/"
        },
        "id": "FRra_rcGhxbh",
        "outputId": "8522c902-7b44-4ca2-c1bf-b8d148077d27"
      },
      "execution_count": 21,
      "outputs": [
        {
          "output_type": "stream",
          "name": "stderr",
          "text": [
            "/usr/local/lib/python3.10/dist-packages/keras/src/layers/convolutional/base_conv.py:107: UserWarning: Do not pass an `input_shape`/`input_dim` argument to a layer. When using Sequential models, prefer using an `Input(shape)` object as the first layer in the model instead.\n",
            "  super().__init__(activity_regularizer=activity_regularizer, **kwargs)\n"
          ]
        },
        {
          "output_type": "stream",
          "name": "stdout",
          "text": [
            "Epoch 1/10\n",
            "300/300 - 4s - 15ms/step - accuracy: 0.8722 - loss: 0.4433 - val_accuracy: 0.9521 - val_loss: 0.1647\n",
            "Epoch 2/10\n",
            "300/300 - 1s - 3ms/step - accuracy: 0.9524 - loss: 0.1603 - val_accuracy: 0.9691 - val_loss: 0.1011\n",
            "Epoch 3/10\n",
            "300/300 - 2s - 6ms/step - accuracy: 0.9649 - loss: 0.1167 - val_accuracy: 0.9749 - val_loss: 0.0779\n",
            "Epoch 4/10\n",
            "300/300 - 2s - 7ms/step - accuracy: 0.9716 - loss: 0.0924 - val_accuracy: 0.9777 - val_loss: 0.0686\n",
            "Epoch 5/10\n",
            "300/300 - 1s - 3ms/step - accuracy: 0.9757 - loss: 0.0792 - val_accuracy: 0.9807 - val_loss: 0.0581\n",
            "Epoch 6/10\n",
            "300/300 - 1s - 4ms/step - accuracy: 0.9795 - loss: 0.0684 - val_accuracy: 0.9823 - val_loss: 0.0507\n",
            "Epoch 7/10\n",
            "300/300 - 1s - 4ms/step - accuracy: 0.9803 - loss: 0.0639 - val_accuracy: 0.9825 - val_loss: 0.0521\n",
            "Epoch 8/10\n",
            "300/300 - 1s - 3ms/step - accuracy: 0.9821 - loss: 0.0568 - val_accuracy: 0.9837 - val_loss: 0.0471\n",
            "Epoch 9/10\n",
            "300/300 - 1s - 4ms/step - accuracy: 0.9836 - loss: 0.0507 - val_accuracy: 0.9866 - val_loss: 0.0403\n",
            "Epoch 10/10\n",
            "300/300 - 1s - 2ms/step - accuracy: 0.9839 - loss: 0.0487 - val_accuracy: 0.9863 - val_loss: 0.0420\n"
          ]
        },
        {
          "output_type": "execute_result",
          "data": {
            "text/plain": [
              "<keras.src.callbacks.history.History at 0x7c065c1eb910>"
            ]
          },
          "metadata": {},
          "execution_count": 21
        }
      ]
    },
    {
      "cell_type": "code",
      "source": [
        "scores = model.evaluate(X_test, y_test, verbose=0)\n",
        "print(\"CNN Error: %.2f%%\" % (100-scores[1]*100))"
      ],
      "metadata": {
        "colab": {
          "base_uri": "https://localhost:8080/"
        },
        "id": "Izlz6MxRigbE",
        "outputId": "63754aec-fe68-4170-8569-24260737dfac"
      },
      "execution_count": 22,
      "outputs": [
        {
          "output_type": "stream",
          "name": "stdout",
          "text": [
            "CNN Error: 1.37%\n"
          ]
        }
      ]
    },
    {
      "cell_type": "markdown",
      "source": [
        "#Image Classification Using Pretrained Networks\n",
        "\n",
        "1. Preprocess the MNIST Dataset:\n",
        "\n",
        "Convert the MNIST grayscale images to 3-channel RGB images and resize them to 224x224 pixels."
      ],
      "metadata": {
        "id": "wRmusP3E3Q43"
      }
    },
    {
      "cell_type": "code",
      "source": [
        "import numpy as np\n",
        "import tensorflow as tf\n",
        "from tensorflow.keras.datasets import mnist\n",
        "from tensorflow.keras.utils import to_categorical\n",
        "from tensorflow.keras.applications import VGG16\n",
        "from tensorflow.keras.models import Sequential\n",
        "from tensorflow.keras.layers import Dense, Flatten\n",
        "\n",
        "# Load the MNIST dataset\n",
        "(x_train, y_train), (x_test, y_test) = mnist.load_data()\n",
        "\n",
        "# Convert grayscale images to RGB by duplicating the channels\n",
        "x_train = np.stack([x_train] * 3, axis=-1)\n",
        "x_test = np.stack([x_test] * 3, axis=-1)\n",
        "\n",
        "# Resize images to 224x224 to match VGG16 input size\n",
        "x_train = tf.image.resize(x_train, (224, 224))\n",
        "x_test = tf.image.resize(x_test, (224, 224))\n",
        "\n",
        "# Normalize pixel values to [0, 1]\n",
        "x_train = x_train / 255.0\n",
        "x_test = x_test / 255.0\n",
        "\n",
        "# One-hot encode the labels\n",
        "y_train = to_categorical(y_train, 10)\n",
        "y_test = to_categorical(y_test, 10)\n"
      ],
      "metadata": {
        "id": "EJ2DGyJ80D5Q"
      },
      "execution_count": null,
      "outputs": []
    },
    {
      "cell_type": "markdown",
      "source": [
        "2. Load the VGG16 Model and Modify It:\n",
        "\n",
        "Load the VGG16 model pretrained on ImageNet and modify it for the MNIST task."
      ],
      "metadata": {
        "id": "ptuwYznO3ZjA"
      }
    },
    {
      "cell_type": "code",
      "source": [
        "# Load the VGG16 model without the top fully connected layers\n",
        "vgg16_base = VGG16(weights='imagenet', include_top=False, input_shape=(224, 224, 3))\n",
        "\n",
        "# Freeze the convolutional base of VGG16\n",
        "vgg16_base.trainable = False\n",
        "\n",
        "# Create a new model with VGG16 as the base\n",
        "model = Sequential([\n",
        "    vgg16_base,\n",
        "    Flatten(),  # Flatten the output to feed into fully connected layers\n",
        "    Dense(256, activation='relu'),  # Add a dense layer with 256 units\n",
        "    Dense(10, activation='softmax')  # Output layer for 10 classes (digits 0-9)\n",
        "])\n",
        "\n",
        "# Compile the model\n",
        "model.compile(optimizer='adam', loss='categorical_crossentropy', metrics=['accuracy'])\n"
      ],
      "metadata": {
        "id": "afnKo5HN0Zsm"
      },
      "execution_count": 25,
      "outputs": []
    },
    {
      "cell_type": "markdown",
      "source": [
        "3. Train and Evaluate the Model:\n",
        "\n",
        "Train the model on the MNIST dataset and evaluate its performance."
      ],
      "metadata": {
        "id": "YsjOdudL3dWx"
      }
    },
    {
      "cell_type": "code",
      "source": [
        "# Train the model\n",
        "model.fit(x_train, y_train, validation_data=(x_test, y_test), epochs=10, batch_size=32)\n",
        "\n",
        "# Evaluate the model\n",
        "loss, accuracy = model.evaluate(x_test, y_test)\n",
        "print(f'Test accuracy: {accuracy:.4f}')"
      ],
      "metadata": {
        "id": "BLcbyVo00Otm"
      },
      "execution_count": null,
      "outputs": []
    }
  ]
}